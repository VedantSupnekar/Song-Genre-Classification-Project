{
 "cells": [
  {
   "cell_type": "markdown",
   "metadata": {},
   "source": [
    "# 1. The Dataset (20 points)\n",
    "\n",
    "Our dataset is a table of songs, each with a name, an artist, and a genre.  For each song, we also know how frequently certain words occur in that song.  More precisely, we have a list of approximately 5000 words.  For each of these words, for each song, each item in the table describes the proportion of the song's lyrics that are the particular word.\n",
    "\n",
    "For example, the lyrics of \"In Your Eyes\" is 168 words long. The word \"like\" appears twice:  $\\frac{2}{168} \\approx 0.0119$ of the words in the song. Similarly, the word \"love\" appears 10 times: $\\frac{10}{168} \\approx 0.0595$ of the words. \n",
    "\n",
    "Our dataset doesn't contain all information about a song.  For example, it doesn't include the total number of words in each song, or information about the order of words in the song, let alone the melody, instruments, or rhythm. Nonetheless, you may find that word counts alone are sufficient to build an accurate genre classifier.\n",
    "\n",
    "Run the cell below to read the `lyrics` table. **It may take up to a minute to load.**"
   ]
  },
  {
   "cell_type": "markdown",
   "metadata": {},
   "source": [
    "### Note1: Max grade of the project is 100. The bonus (in one project question) is not counted if your grade has reached 100). \n",
    " \n",
    "### Note2: if your partner is not cooperative, and you all cannot work it out, please consider to split the group as early as you can. \n",
    "\n",
    "### Note3: A group of one/two person(s) has the same evaluation as a group of three. Please don't expect to answer fewer questions because of that reason."
   ]
  },
  {
   "cell_type": "code",
   "execution_count": 27,
   "metadata": {},
   "outputs": [],
   "source": [
    "import pandas as pd"
   ]
  },
  {
   "cell_type": "code",
   "execution_count": 37,
   "metadata": {},
   "outputs": [
    {
     "data": {
      "text/html": [
       "<div>\n",
       "<style scoped>\n",
       "    .dataframe tbody tr th:only-of-type {\n",
       "        vertical-align: middle;\n",
       "    }\n",
       "\n",
       "    .dataframe tbody tr th {\n",
       "        vertical-align: top;\n",
       "    }\n",
       "\n",
       "    .dataframe thead th {\n",
       "        text-align: right;\n",
       "    }\n",
       "</style>\n",
       "<table border=\"1\" class=\"dataframe\">\n",
       "  <thead>\n",
       "    <tr style=\"text-align: right;\">\n",
       "      <th></th>\n",
       "      <th>Title</th>\n",
       "      <th>Artist</th>\n",
       "      <th>Genre</th>\n",
       "      <th>i</th>\n",
       "      <th>the</th>\n",
       "      <th>you</th>\n",
       "      <th>to</th>\n",
       "      <th>and</th>\n",
       "      <th>a</th>\n",
       "      <th>me</th>\n",
       "      <th>...</th>\n",
       "      <th>writer</th>\n",
       "      <th>motivo</th>\n",
       "      <th>bake</th>\n",
       "      <th>insist</th>\n",
       "      <th>wel</th>\n",
       "      <th>santo</th>\n",
       "      <th>pe</th>\n",
       "      <th>gee</th>\n",
       "      <th>colleg</th>\n",
       "      <th>kad</th>\n",
       "    </tr>\n",
       "  </thead>\n",
       "  <tbody>\n",
       "    <tr>\n",
       "      <th>0</th>\n",
       "      <td>Slicker Than Your Average</td>\n",
       "      <td>Craig David</td>\n",
       "      <td>Hip-hop</td>\n",
       "      <td>0.049536</td>\n",
       "      <td>0.017028</td>\n",
       "      <td>0.035604</td>\n",
       "      <td>0.020124</td>\n",
       "      <td>0.007740</td>\n",
       "      <td>0.006192</td>\n",
       "      <td>0.058824</td>\n",
       "      <td>...</td>\n",
       "      <td>0.0</td>\n",
       "      <td>0.0</td>\n",
       "      <td>0.0</td>\n",
       "      <td>0.0</td>\n",
       "      <td>0</td>\n",
       "      <td>0.0</td>\n",
       "      <td>0.0</td>\n",
       "      <td>0.0</td>\n",
       "      <td>0.0</td>\n",
       "      <td>0</td>\n",
       "    </tr>\n",
       "    <tr>\n",
       "      <th>1</th>\n",
       "      <td>Right There</td>\n",
       "      <td>MF Grimm</td>\n",
       "      <td>Hip-hop</td>\n",
       "      <td>0.037825</td>\n",
       "      <td>0.054374</td>\n",
       "      <td>0.023641</td>\n",
       "      <td>0.049645</td>\n",
       "      <td>0.009456</td>\n",
       "      <td>0.016548</td>\n",
       "      <td>0.018913</td>\n",
       "      <td>...</td>\n",
       "      <td>0.0</td>\n",
       "      <td>0.0</td>\n",
       "      <td>0.0</td>\n",
       "      <td>0.0</td>\n",
       "      <td>0</td>\n",
       "      <td>0.0</td>\n",
       "      <td>0.0</td>\n",
       "      <td>0.0</td>\n",
       "      <td>0.0</td>\n",
       "      <td>0</td>\n",
       "    </tr>\n",
       "    <tr>\n",
       "      <th>2</th>\n",
       "      <td>Talkin' All That</td>\n",
       "      <td>Cashis</td>\n",
       "      <td>Hip-hop</td>\n",
       "      <td>0.056738</td>\n",
       "      <td>0.049645</td>\n",
       "      <td>0.051418</td>\n",
       "      <td>0.010638</td>\n",
       "      <td>0.026596</td>\n",
       "      <td>0.033688</td>\n",
       "      <td>0.007092</td>\n",
       "      <td>...</td>\n",
       "      <td>0.0</td>\n",
       "      <td>0.0</td>\n",
       "      <td>0.0</td>\n",
       "      <td>0.0</td>\n",
       "      <td>0</td>\n",
       "      <td>0.0</td>\n",
       "      <td>0.0</td>\n",
       "      <td>0.0</td>\n",
       "      <td>0.0</td>\n",
       "      <td>0</td>\n",
       "    </tr>\n",
       "    <tr>\n",
       "      <th>3</th>\n",
       "      <td>It Only Hurts Me When I Cry</td>\n",
       "      <td>Raul Malo</td>\n",
       "      <td>Country</td>\n",
       "      <td>0.096491</td>\n",
       "      <td>0.074561</td>\n",
       "      <td>0.030702</td>\n",
       "      <td>0.017544</td>\n",
       "      <td>0.026316</td>\n",
       "      <td>0.017544</td>\n",
       "      <td>0.021930</td>\n",
       "      <td>...</td>\n",
       "      <td>0.0</td>\n",
       "      <td>0.0</td>\n",
       "      <td>0.0</td>\n",
       "      <td>0.0</td>\n",
       "      <td>0</td>\n",
       "      <td>0.0</td>\n",
       "      <td>0.0</td>\n",
       "      <td>0.0</td>\n",
       "      <td>0.0</td>\n",
       "      <td>0</td>\n",
       "    </tr>\n",
       "    <tr>\n",
       "      <th>4</th>\n",
       "      <td>Is It Too Late Now</td>\n",
       "      <td>Lester Flatt &amp; Earl Scruggs</td>\n",
       "      <td>Country</td>\n",
       "      <td>0.043902</td>\n",
       "      <td>0.000000</td>\n",
       "      <td>0.073171</td>\n",
       "      <td>0.019512</td>\n",
       "      <td>0.000000</td>\n",
       "      <td>0.014634</td>\n",
       "      <td>0.034146</td>\n",
       "      <td>...</td>\n",
       "      <td>0.0</td>\n",
       "      <td>0.0</td>\n",
       "      <td>0.0</td>\n",
       "      <td>0.0</td>\n",
       "      <td>0</td>\n",
       "      <td>0.0</td>\n",
       "      <td>0.0</td>\n",
       "      <td>0.0</td>\n",
       "      <td>0.0</td>\n",
       "      <td>0</td>\n",
       "    </tr>\n",
       "  </tbody>\n",
       "</table>\n",
       "<p>5 rows × 4979 columns</p>\n",
       "</div>"
      ],
      "text/plain": [
       "                         Title                       Artist    Genre  \\\n",
       "0    Slicker Than Your Average                  Craig David  Hip-hop   \n",
       "1                  Right There                     MF Grimm  Hip-hop   \n",
       "2             Talkin' All That                       Cashis  Hip-hop   \n",
       "3  It Only Hurts Me When I Cry                    Raul Malo  Country   \n",
       "4           Is It Too Late Now  Lester Flatt & Earl Scruggs  Country   \n",
       "\n",
       "          i       the       you        to       and         a        me  ...  \\\n",
       "0  0.049536  0.017028  0.035604  0.020124  0.007740  0.006192  0.058824  ...   \n",
       "1  0.037825  0.054374  0.023641  0.049645  0.009456  0.016548  0.018913  ...   \n",
       "2  0.056738  0.049645  0.051418  0.010638  0.026596  0.033688  0.007092  ...   \n",
       "3  0.096491  0.074561  0.030702  0.017544  0.026316  0.017544  0.021930  ...   \n",
       "4  0.043902  0.000000  0.073171  0.019512  0.000000  0.014634  0.034146  ...   \n",
       "\n",
       "   writer  motivo  bake  insist  wel  santo   pe  gee  colleg  kad  \n",
       "0     0.0     0.0   0.0     0.0    0    0.0  0.0  0.0     0.0    0  \n",
       "1     0.0     0.0   0.0     0.0    0    0.0  0.0  0.0     0.0    0  \n",
       "2     0.0     0.0   0.0     0.0    0    0.0  0.0  0.0     0.0    0  \n",
       "3     0.0     0.0   0.0     0.0    0    0.0  0.0  0.0     0.0    0  \n",
       "4     0.0     0.0   0.0     0.0    0    0.0  0.0  0.0     0.0    0  \n",
       "\n",
       "[5 rows x 4979 columns]"
      ]
     },
     "execution_count": 37,
     "metadata": {},
     "output_type": "execute_result"
    }
   ],
   "source": [
    "lyrics_df = pd.read_csv(\"lyrics_clean.csv\")\n",
    "lyrics_df.head()"
   ]
  },
  {
   "cell_type": "markdown",
   "metadata": {},
   "source": [
    "**Question 1.1**: Print the number of rows and columns in the dataset "
   ]
  },
  {
   "cell_type": "code",
   "execution_count": 38,
   "metadata": {},
   "outputs": [
    {
     "name": "stdout",
     "output_type": "stream",
     "text": [
      "There are 1721 rows.\n"
     ]
    }
   ],
   "source": [
    "print('There are', len(lyrics_df.axes[0]), \"rows.\")"
   ]
  },
  {
   "cell_type": "code",
   "execution_count": 39,
   "metadata": {},
   "outputs": [
    {
     "name": "stdout",
     "output_type": "stream",
     "text": [
      "There are 4979 columns.\n"
     ]
    }
   ],
   "source": [
    "print('There are', len(lyrics_df.axes[1]), \"columns.\")"
   ]
  },
  {
   "cell_type": "markdown",
   "metadata": {},
   "source": [
    "**Question 1.2**: Find the proportion of the word `like` in the song `In Your Eyes`"
   ]
  },
  {
   "cell_type": "code",
   "execution_count": 40,
   "metadata": {},
   "outputs": [
    {
     "name": "stdout",
     "output_type": "stream",
     "text": [
      "The proportion of the word like in \"In Your Eyes\" is 0.01190476\n"
     ]
    }
   ],
   "source": [
    "print('The proportion of the word like in \"In Your Eyes\" is', lyrics_df.loc[lyrics_df[\"Title\"]==\"In Your Eyes\", \"like\"].values[0])"
   ]
  },
  {
   "cell_type": "markdown",
   "metadata": {},
   "source": [
    "**Question 1.3:** Set `expected_row_sum` to the number that you expect will result from summing all proportions in each row, excluding the first three columns. "
   ]
  },
  {
   "cell_type": "code",
   "execution_count": 41,
   "metadata": {},
   "outputs": [],
   "source": [
    "expected_row_sum = 1"
   ]
  },
  {
   "cell_type": "markdown",
   "metadata": {},
   "source": [
    "Verify your answer by doing sum along the columns for each row"
   ]
  },
  {
   "cell_type": "code",
   "execution_count": 42,
   "metadata": {},
   "outputs": [
    {
     "data": {
      "text/plain": [
       "0       1.0\n",
       "1       1.0\n",
       "2       1.0\n",
       "3       1.0\n",
       "4       1.0\n",
       "       ... \n",
       "1716    1.0\n",
       "1717    1.0\n",
       "1718    1.0\n",
       "1719    1.0\n",
       "1720    1.0\n",
       "Length: 1721, dtype: float64"
      ]
     },
     "execution_count": 42,
     "metadata": {},
     "output_type": "execute_result"
    }
   ],
   "source": [
    "lyrics_df.sum(axis = 1)"
   ]
  },
  {
   "cell_type": "markdown",
   "metadata": {},
   "source": [
    "## Word Stemming\n",
    "The columns other than Title, Artist, and Genre in the `lyrics` table are all words that appear in some of the songs in our dataset.  Some of those names have been *stemmed*, or abbreviated heuristically, in an attempt to make different [inflected](https://en.wikipedia.org/wiki/Inflection) forms of the same base word into the same string.  For example, the column \"manag\" is the sum of proportions of the words \"manage\", \"manager\", \"managed\", and \"managerial\" (and perhaps others) in each song.  \n",
    "\n",
    "Stemming makes it a little tricky to search for the words you want to use, so we have provided another dataframe that will let you see examples of unstemmed versions of each stemmed word.  Run the code below to load it."
   ]
  },
  {
   "cell_type": "markdown",
   "metadata": {},
   "source": [
    "**Question 1.4**: Read the vocabulary from the given file `mxm_reverse_mapping_safe.csv` and store it into a variale `vocab_mapping`"
   ]
  },
  {
   "cell_type": "code",
   "execution_count": 43,
   "metadata": {},
   "outputs": [
    {
     "data": {
      "text/html": [
       "<div>\n",
       "<style scoped>\n",
       "    .dataframe tbody tr th:only-of-type {\n",
       "        vertical-align: middle;\n",
       "    }\n",
       "\n",
       "    .dataframe tbody tr th {\n",
       "        vertical-align: top;\n",
       "    }\n",
       "\n",
       "    .dataframe thead th {\n",
       "        text-align: right;\n",
       "    }\n",
       "</style>\n",
       "<table border=\"1\" class=\"dataframe\">\n",
       "  <thead>\n",
       "    <tr style=\"text-align: right;\">\n",
       "      <th></th>\n",
       "      <th>Stem</th>\n",
       "      <th>Word</th>\n",
       "    </tr>\n",
       "  </thead>\n",
       "  <tbody>\n",
       "    <tr>\n",
       "      <th>0</th>\n",
       "      <td>día</td>\n",
       "      <td>día</td>\n",
       "    </tr>\n",
       "    <tr>\n",
       "      <th>1</th>\n",
       "      <td>pido</td>\n",
       "      <td>pido</td>\n",
       "    </tr>\n",
       "    <tr>\n",
       "      <th>2</th>\n",
       "      <td>hatr</td>\n",
       "      <td>hatred</td>\n",
       "    </tr>\n",
       "    <tr>\n",
       "      <th>3</th>\n",
       "      <td>pide</td>\n",
       "      <td>pide</td>\n",
       "    </tr>\n",
       "    <tr>\n",
       "      <th>4</th>\n",
       "      <td>yellow</td>\n",
       "      <td>yellow</td>\n",
       "    </tr>\n",
       "    <tr>\n",
       "      <th>...</th>\n",
       "      <td>...</td>\n",
       "      <td>...</td>\n",
       "    </tr>\n",
       "    <tr>\n",
       "      <th>4971</th>\n",
       "      <td>yell</td>\n",
       "      <td>yell</td>\n",
       "    </tr>\n",
       "    <tr>\n",
       "      <th>4972</th>\n",
       "      <td>at</td>\n",
       "      <td>at</td>\n",
       "    </tr>\n",
       "    <tr>\n",
       "      <th>4973</th>\n",
       "      <td>confess</td>\n",
       "      <td>confess</td>\n",
       "    </tr>\n",
       "    <tr>\n",
       "      <th>4974</th>\n",
       "      <td>sincer</td>\n",
       "      <td>sincere</td>\n",
       "    </tr>\n",
       "    <tr>\n",
       "      <th>4975</th>\n",
       "      <td>richard</td>\n",
       "      <td>richard</td>\n",
       "    </tr>\n",
       "  </tbody>\n",
       "</table>\n",
       "<p>4976 rows × 2 columns</p>\n",
       "</div>"
      ],
      "text/plain": [
       "         Stem     Word\n",
       "0         día      día\n",
       "1        pido     pido\n",
       "2        hatr   hatred\n",
       "3        pide     pide\n",
       "4      yellow   yellow\n",
       "...       ...      ...\n",
       "4971     yell     yell\n",
       "4972       at       at\n",
       "4973  confess  confess\n",
       "4974   sincer  sincere\n",
       "4975  richard  richard\n",
       "\n",
       "[4976 rows x 2 columns]"
      ]
     },
     "execution_count": 43,
     "metadata": {},
     "output_type": "execute_result"
    }
   ],
   "source": [
    "vocab_mapping = pd.read_csv(\"mxm_reverse_mapping_safe.csv\")\n",
    "vocab_mapping"
   ]
  },
  {
   "cell_type": "code",
   "execution_count": 44,
   "metadata": {},
   "outputs": [],
   "source": [
    "vocab_mapping_rows = len(vocab_mapping.axes[0])"
   ]
  },
  {
   "cell_type": "markdown",
   "metadata": {},
   "source": [
    "**Question 1.5**: Compare if the number of stemmed words in the vocabulary is the same with one in the song lyrics dataset."
   ]
  },
  {
   "cell_type": "code",
   "execution_count": 45,
   "metadata": {},
   "outputs": [
    {
     "name": "stdout",
     "output_type": "stream",
     "text": [
      "4976\n",
      "4979\n"
     ]
    }
   ],
   "source": [
    "print(len(vocab_mapping.axes[0]))\n",
    "print(len(lyrics_df.axes[1]))"
   ]
  },
  {
   "cell_type": "markdown",
   "metadata": {},
   "source": [
    "The number of columns in lyrics dataset are 4979, however 3 of them are not word columns. \n",
    "Hence the number of word columns are 4976. This means that the number of stemmed words is equivalent in both the vocabulary dataset and the lyrics dataset."
   ]
  },
  {
   "cell_type": "markdown",
   "metadata": {},
   "source": [
    "**Question 1.6:** Assign `unchanged` to the **percentage** of words in `vocab_table` that are the same as their stemmed form. "
   ]
  },
  {
   "cell_type": "code",
   "execution_count": 46,
   "metadata": {},
   "outputs": [
    {
     "name": "stdout",
     "output_type": "stream",
     "text": [
      "72.16639871382637 %\n"
     ]
    }
   ],
   "source": [
    "unchanged = np.count_nonzero(vocab_mapping[\"Stem\"] == vocab_mapping[\"Word\"]) / len(vocab_mapping.axes[0])\n",
    "print(unchanged*100,'%')"
   ]
  },
  {
   "cell_type": "markdown",
   "metadata": {},
   "source": [
    "**Question 1.7:** Assign `stemmed_message` to the stemmed version of the word \"message\"."
   ]
  },
  {
   "cell_type": "code",
   "execution_count": 47,
   "metadata": {},
   "outputs": [
    {
     "data": {
      "text/plain": [
       "'messag'"
      ]
     },
     "execution_count": 47,
     "metadata": {},
     "output_type": "execute_result"
    }
   ],
   "source": [
    "stemmed_message = vocab_mapping.at[vocab_mapping.loc[vocab_mapping[\"Word\"]==\"message\"].index[0], \"Stem\"]\n",
    "stemmed_message"
   ]
  },
  {
   "cell_type": "markdown",
   "metadata": {},
   "source": [
    "**Question 1.8:** Assign `unstemmed_singl` to the word in `vocab_table` that has \"singl\" as its stemmed form. (*Note that multiple English words may stem to \"singl\", but only one example appears in `vocab_table`.*)"
   ]
  },
  {
   "cell_type": "code",
   "execution_count": 48,
   "metadata": {},
   "outputs": [
    {
     "data": {
      "text/plain": [
       "'single'"
      ]
     },
     "execution_count": 48,
     "metadata": {},
     "output_type": "execute_result"
    }
   ],
   "source": [
    "unstemmed_singl = vocab_mapping.at[vocab_mapping.loc[vocab_mapping[\"Stem\"]==\"singl\"].index[0], \"Word\"]\n",
    "unstemmed_singl"
   ]
  },
  {
   "cell_type": "markdown",
   "metadata": {},
   "source": [
    "**Question 1.9:** What word in `vocab_table` was shortened the most by this stemming process? Assign `most_shortened` to the word. *hint: function len(str) will return the length of the input string `str`. You will do a loop over rows of the vocabulary to compute the length of each word.*"
   ]
  },
  {
   "cell_type": "code",
   "execution_count": 49,
   "metadata": {},
   "outputs": [],
   "source": [
    "def shortened_count(word):\n",
    "    stemmed_word = vocab_mapping.at[vocab_mapping.loc[vocab_mapping[\"Word\"]==word].index[0], \"Stem\"]\n",
    "    word_length = len(word)\n",
    "    stem_length = len(stemmed_word)\n",
    "    return word_length - stem_length"
   ]
  },
  {
   "cell_type": "code",
   "execution_count": 50,
   "metadata": {},
   "outputs": [],
   "source": [
    "shortened_values=[]\n",
    "row_number=[]\n",
    "\n",
    "for index in vocab_mapping.index:\n",
    "    word = vocab_mapping.loc[index,'Word']\n",
    "    count = shortened_count(word)\n",
    "    shortened_values.append(count)\n",
    "    row_number.append(index)\n",
    "    \n",
    "vocab_mapping[\"Difference\"] = shortened_values"
   ]
  },
  {
   "cell_type": "code",
   "execution_count": 51,
   "metadata": {},
   "outputs": [
    {
     "data": {
      "text/plain": [
       "'international'"
      ]
     },
     "execution_count": 51,
     "metadata": {},
     "output_type": "execute_result"
    }
   ],
   "source": [
    "most_shortened = vocab_mapping.at[vocab_mapping.loc[vocab_mapping[\"Difference\"] == vocab_mapping[\"Difference\"].max()].index[0], \"Word\"]\n",
    "most_shortened"
   ]
  },
  {
   "cell_type": "markdown",
   "metadata": {},
   "source": [
    "## Splitting the dataset\n",
    "We're going to use our `lyrics` dataset for two purposes.  First, we want to *train* various song genre classifiers.  Second, we want to *test* the performance of our final classifier. Hence, we need two different datasets: *training*, and *test*.\n",
    "\n",
    "The purpose of a classifier is to generalize to unseen data that is similar to the training data. Therefore, we must ensure that there are no songs that appear in two different sets. We do so by splitting the dataset randomly. The dataset has already been permuted randomly, so it's easy to split.  We just take the top for training, and the last for test. "
   ]
  },
  {
   "cell_type": "markdown",
   "metadata": {},
   "source": [
    "**Question 1.10**: Split the data with the ratio `80%` for training and `20%` for testing. "
   ]
  },
  {
   "cell_type": "code",
   "execution_count": 52,
   "metadata": {},
   "outputs": [
    {
     "name": "stdout",
     "output_type": "stream",
     "text": [
      "Training Set Size: 1376 ,Testing Set Size: 345\n"
     ]
    }
   ],
   "source": [
    "# 80% training and 20% testing\n",
    "num_rows = lyrics_df.shape[0]\n",
    "training_set_size = int(num_rows * 0.8)\n",
    "testing_set_size = num_rows - training_set_size\n",
    "\n",
    "print(\"Training Set Size:\", training_set_size, \",Testing Set Size:\", testing_set_size)"
   ]
  },
  {
   "cell_type": "code",
   "execution_count": 53,
   "metadata": {},
   "outputs": [
    {
     "data": {
      "text/html": [
       "<div>\n",
       "<style scoped>\n",
       "    .dataframe tbody tr th:only-of-type {\n",
       "        vertical-align: middle;\n",
       "    }\n",
       "\n",
       "    .dataframe tbody tr th {\n",
       "        vertical-align: top;\n",
       "    }\n",
       "\n",
       "    .dataframe thead th {\n",
       "        text-align: right;\n",
       "    }\n",
       "</style>\n",
       "<table border=\"1\" class=\"dataframe\">\n",
       "  <thead>\n",
       "    <tr style=\"text-align: right;\">\n",
       "      <th></th>\n",
       "      <th>Title</th>\n",
       "      <th>Artist</th>\n",
       "      <th>Genre</th>\n",
       "      <th>i</th>\n",
       "      <th>the</th>\n",
       "      <th>you</th>\n",
       "      <th>to</th>\n",
       "      <th>and</th>\n",
       "      <th>a</th>\n",
       "      <th>me</th>\n",
       "      <th>...</th>\n",
       "      <th>writer</th>\n",
       "      <th>motivo</th>\n",
       "      <th>bake</th>\n",
       "      <th>insist</th>\n",
       "      <th>wel</th>\n",
       "      <th>santo</th>\n",
       "      <th>pe</th>\n",
       "      <th>gee</th>\n",
       "      <th>colleg</th>\n",
       "      <th>kad</th>\n",
       "    </tr>\n",
       "  </thead>\n",
       "  <tbody>\n",
       "    <tr>\n",
       "      <th>0</th>\n",
       "      <td>Slicker Than Your Average</td>\n",
       "      <td>Craig David</td>\n",
       "      <td>Hip-hop</td>\n",
       "      <td>0.049536</td>\n",
       "      <td>0.017028</td>\n",
       "      <td>0.035604</td>\n",
       "      <td>0.020124</td>\n",
       "      <td>0.007740</td>\n",
       "      <td>0.006192</td>\n",
       "      <td>0.058824</td>\n",
       "      <td>...</td>\n",
       "      <td>0.0</td>\n",
       "      <td>0.0</td>\n",
       "      <td>0.0</td>\n",
       "      <td>0.0</td>\n",
       "      <td>0</td>\n",
       "      <td>0.0</td>\n",
       "      <td>0.0</td>\n",
       "      <td>0.0</td>\n",
       "      <td>0.0</td>\n",
       "      <td>0</td>\n",
       "    </tr>\n",
       "    <tr>\n",
       "      <th>1</th>\n",
       "      <td>Right There</td>\n",
       "      <td>MF Grimm</td>\n",
       "      <td>Hip-hop</td>\n",
       "      <td>0.037825</td>\n",
       "      <td>0.054374</td>\n",
       "      <td>0.023641</td>\n",
       "      <td>0.049645</td>\n",
       "      <td>0.009456</td>\n",
       "      <td>0.016548</td>\n",
       "      <td>0.018913</td>\n",
       "      <td>...</td>\n",
       "      <td>0.0</td>\n",
       "      <td>0.0</td>\n",
       "      <td>0.0</td>\n",
       "      <td>0.0</td>\n",
       "      <td>0</td>\n",
       "      <td>0.0</td>\n",
       "      <td>0.0</td>\n",
       "      <td>0.0</td>\n",
       "      <td>0.0</td>\n",
       "      <td>0</td>\n",
       "    </tr>\n",
       "    <tr>\n",
       "      <th>2</th>\n",
       "      <td>Talkin' All That</td>\n",
       "      <td>Cashis</td>\n",
       "      <td>Hip-hop</td>\n",
       "      <td>0.056738</td>\n",
       "      <td>0.049645</td>\n",
       "      <td>0.051418</td>\n",
       "      <td>0.010638</td>\n",
       "      <td>0.026596</td>\n",
       "      <td>0.033688</td>\n",
       "      <td>0.007092</td>\n",
       "      <td>...</td>\n",
       "      <td>0.0</td>\n",
       "      <td>0.0</td>\n",
       "      <td>0.0</td>\n",
       "      <td>0.0</td>\n",
       "      <td>0</td>\n",
       "      <td>0.0</td>\n",
       "      <td>0.0</td>\n",
       "      <td>0.0</td>\n",
       "      <td>0.0</td>\n",
       "      <td>0</td>\n",
       "    </tr>\n",
       "    <tr>\n",
       "      <th>3</th>\n",
       "      <td>It Only Hurts Me When I Cry</td>\n",
       "      <td>Raul Malo</td>\n",
       "      <td>Country</td>\n",
       "      <td>0.096491</td>\n",
       "      <td>0.074561</td>\n",
       "      <td>0.030702</td>\n",
       "      <td>0.017544</td>\n",
       "      <td>0.026316</td>\n",
       "      <td>0.017544</td>\n",
       "      <td>0.021930</td>\n",
       "      <td>...</td>\n",
       "      <td>0.0</td>\n",
       "      <td>0.0</td>\n",
       "      <td>0.0</td>\n",
       "      <td>0.0</td>\n",
       "      <td>0</td>\n",
       "      <td>0.0</td>\n",
       "      <td>0.0</td>\n",
       "      <td>0.0</td>\n",
       "      <td>0.0</td>\n",
       "      <td>0</td>\n",
       "    </tr>\n",
       "    <tr>\n",
       "      <th>4</th>\n",
       "      <td>Is It Too Late Now</td>\n",
       "      <td>Lester Flatt &amp; Earl Scruggs</td>\n",
       "      <td>Country</td>\n",
       "      <td>0.043902</td>\n",
       "      <td>0.000000</td>\n",
       "      <td>0.073171</td>\n",
       "      <td>0.019512</td>\n",
       "      <td>0.000000</td>\n",
       "      <td>0.014634</td>\n",
       "      <td>0.034146</td>\n",
       "      <td>...</td>\n",
       "      <td>0.0</td>\n",
       "      <td>0.0</td>\n",
       "      <td>0.0</td>\n",
       "      <td>0.0</td>\n",
       "      <td>0</td>\n",
       "      <td>0.0</td>\n",
       "      <td>0.0</td>\n",
       "      <td>0.0</td>\n",
       "      <td>0.0</td>\n",
       "      <td>0</td>\n",
       "    </tr>\n",
       "    <tr>\n",
       "      <th>...</th>\n",
       "      <td>...</td>\n",
       "      <td>...</td>\n",
       "      <td>...</td>\n",
       "      <td>...</td>\n",
       "      <td>...</td>\n",
       "      <td>...</td>\n",
       "      <td>...</td>\n",
       "      <td>...</td>\n",
       "      <td>...</td>\n",
       "      <td>...</td>\n",
       "      <td>...</td>\n",
       "      <td>...</td>\n",
       "      <td>...</td>\n",
       "      <td>...</td>\n",
       "      <td>...</td>\n",
       "      <td>...</td>\n",
       "      <td>...</td>\n",
       "      <td>...</td>\n",
       "      <td>...</td>\n",
       "      <td>...</td>\n",
       "      <td>...</td>\n",
       "    </tr>\n",
       "    <tr>\n",
       "      <th>1371</th>\n",
       "      <td>Enter Galactic (Love Connection Part I)</td>\n",
       "      <td>Kid Cudi</td>\n",
       "      <td>Hip-hop</td>\n",
       "      <td>0.026810</td>\n",
       "      <td>0.018767</td>\n",
       "      <td>0.064343</td>\n",
       "      <td>0.029491</td>\n",
       "      <td>0.029491</td>\n",
       "      <td>0.026810</td>\n",
       "      <td>0.024129</td>\n",
       "      <td>...</td>\n",
       "      <td>0.0</td>\n",
       "      <td>0.0</td>\n",
       "      <td>0.0</td>\n",
       "      <td>0.0</td>\n",
       "      <td>0</td>\n",
       "      <td>0.0</td>\n",
       "      <td>0.0</td>\n",
       "      <td>0.0</td>\n",
       "      <td>0.0</td>\n",
       "      <td>0</td>\n",
       "    </tr>\n",
       "    <tr>\n",
       "      <th>1372</th>\n",
       "      <td>A Modern Day City Symphony</td>\n",
       "      <td>Looptroop</td>\n",
       "      <td>Hip-hop</td>\n",
       "      <td>0.030060</td>\n",
       "      <td>0.060120</td>\n",
       "      <td>0.020040</td>\n",
       "      <td>0.024048</td>\n",
       "      <td>0.020040</td>\n",
       "      <td>0.024048</td>\n",
       "      <td>0.016032</td>\n",
       "      <td>...</td>\n",
       "      <td>0.0</td>\n",
       "      <td>0.0</td>\n",
       "      <td>0.0</td>\n",
       "      <td>0.0</td>\n",
       "      <td>0</td>\n",
       "      <td>0.0</td>\n",
       "      <td>0.0</td>\n",
       "      <td>0.0</td>\n",
       "      <td>0.0</td>\n",
       "      <td>0</td>\n",
       "    </tr>\n",
       "    <tr>\n",
       "      <th>1373</th>\n",
       "      <td>Poor Orphan Child</td>\n",
       "      <td>Ralph Stanley</td>\n",
       "      <td>Country</td>\n",
       "      <td>0.013793</td>\n",
       "      <td>0.065517</td>\n",
       "      <td>0.000000</td>\n",
       "      <td>0.020690</td>\n",
       "      <td>0.048276</td>\n",
       "      <td>0.003448</td>\n",
       "      <td>0.000000</td>\n",
       "      <td>...</td>\n",
       "      <td>0.0</td>\n",
       "      <td>0.0</td>\n",
       "      <td>0.0</td>\n",
       "      <td>0.0</td>\n",
       "      <td>0</td>\n",
       "      <td>0.0</td>\n",
       "      <td>0.0</td>\n",
       "      <td>0.0</td>\n",
       "      <td>0.0</td>\n",
       "      <td>0</td>\n",
       "    </tr>\n",
       "    <tr>\n",
       "      <th>1374</th>\n",
       "      <td>Some Guys Have All The Love (Album Version)</td>\n",
       "      <td>Little Texas</td>\n",
       "      <td>Country</td>\n",
       "      <td>0.066372</td>\n",
       "      <td>0.066372</td>\n",
       "      <td>0.026549</td>\n",
       "      <td>0.008850</td>\n",
       "      <td>0.026549</td>\n",
       "      <td>0.017699</td>\n",
       "      <td>0.013274</td>\n",
       "      <td>...</td>\n",
       "      <td>0.0</td>\n",
       "      <td>0.0</td>\n",
       "      <td>0.0</td>\n",
       "      <td>0.0</td>\n",
       "      <td>0</td>\n",
       "      <td>0.0</td>\n",
       "      <td>0.0</td>\n",
       "      <td>0.0</td>\n",
       "      <td>0.0</td>\n",
       "      <td>0</td>\n",
       "    </tr>\n",
       "    <tr>\n",
       "      <th>1375</th>\n",
       "      <td>Get That Monkey Off Your Back</td>\n",
       "      <td>The Coup</td>\n",
       "      <td>Hip-hop</td>\n",
       "      <td>0.008961</td>\n",
       "      <td>0.012545</td>\n",
       "      <td>0.005376</td>\n",
       "      <td>0.017921</td>\n",
       "      <td>0.007168</td>\n",
       "      <td>0.001792</td>\n",
       "      <td>0.003584</td>\n",
       "      <td>...</td>\n",
       "      <td>0.0</td>\n",
       "      <td>0.0</td>\n",
       "      <td>0.0</td>\n",
       "      <td>0.0</td>\n",
       "      <td>0</td>\n",
       "      <td>0.0</td>\n",
       "      <td>0.0</td>\n",
       "      <td>0.0</td>\n",
       "      <td>0.0</td>\n",
       "      <td>0</td>\n",
       "    </tr>\n",
       "  </tbody>\n",
       "</table>\n",
       "<p>1376 rows × 4979 columns</p>\n",
       "</div>"
      ],
      "text/plain": [
       "                                            Title  \\\n",
       "0                       Slicker Than Your Average   \n",
       "1                                     Right There   \n",
       "2                                Talkin' All That   \n",
       "3                     It Only Hurts Me When I Cry   \n",
       "4                              Is It Too Late Now   \n",
       "...                                           ...   \n",
       "1371      Enter Galactic (Love Connection Part I)   \n",
       "1372                   A Modern Day City Symphony   \n",
       "1373                            Poor Orphan Child   \n",
       "1374  Some Guys Have All The Love (Album Version)   \n",
       "1375                Get That Monkey Off Your Back   \n",
       "\n",
       "                           Artist    Genre         i       the       you  \\\n",
       "0                     Craig David  Hip-hop  0.049536  0.017028  0.035604   \n",
       "1                        MF Grimm  Hip-hop  0.037825  0.054374  0.023641   \n",
       "2                          Cashis  Hip-hop  0.056738  0.049645  0.051418   \n",
       "3                       Raul Malo  Country  0.096491  0.074561  0.030702   \n",
       "4     Lester Flatt & Earl Scruggs  Country  0.043902  0.000000  0.073171   \n",
       "...                           ...      ...       ...       ...       ...   \n",
       "1371                     Kid Cudi  Hip-hop  0.026810  0.018767  0.064343   \n",
       "1372                    Looptroop  Hip-hop  0.030060  0.060120  0.020040   \n",
       "1373                Ralph Stanley  Country  0.013793  0.065517  0.000000   \n",
       "1374                 Little Texas  Country  0.066372  0.066372  0.026549   \n",
       "1375                     The Coup  Hip-hop  0.008961  0.012545  0.005376   \n",
       "\n",
       "            to       and         a        me  ...  writer  motivo  bake  \\\n",
       "0     0.020124  0.007740  0.006192  0.058824  ...     0.0     0.0   0.0   \n",
       "1     0.049645  0.009456  0.016548  0.018913  ...     0.0     0.0   0.0   \n",
       "2     0.010638  0.026596  0.033688  0.007092  ...     0.0     0.0   0.0   \n",
       "3     0.017544  0.026316  0.017544  0.021930  ...     0.0     0.0   0.0   \n",
       "4     0.019512  0.000000  0.014634  0.034146  ...     0.0     0.0   0.0   \n",
       "...        ...       ...       ...       ...  ...     ...     ...   ...   \n",
       "1371  0.029491  0.029491  0.026810  0.024129  ...     0.0     0.0   0.0   \n",
       "1372  0.024048  0.020040  0.024048  0.016032  ...     0.0     0.0   0.0   \n",
       "1373  0.020690  0.048276  0.003448  0.000000  ...     0.0     0.0   0.0   \n",
       "1374  0.008850  0.026549  0.017699  0.013274  ...     0.0     0.0   0.0   \n",
       "1375  0.017921  0.007168  0.001792  0.003584  ...     0.0     0.0   0.0   \n",
       "\n",
       "      insist  wel  santo   pe  gee  colleg  kad  \n",
       "0        0.0    0    0.0  0.0  0.0     0.0    0  \n",
       "1        0.0    0    0.0  0.0  0.0     0.0    0  \n",
       "2        0.0    0    0.0  0.0  0.0     0.0    0  \n",
       "3        0.0    0    0.0  0.0  0.0     0.0    0  \n",
       "4        0.0    0    0.0  0.0  0.0     0.0    0  \n",
       "...      ...  ...    ...  ...  ...     ...  ...  \n",
       "1371     0.0    0    0.0  0.0  0.0     0.0    0  \n",
       "1372     0.0    0    0.0  0.0  0.0     0.0    0  \n",
       "1373     0.0    0    0.0  0.0  0.0     0.0    0  \n",
       "1374     0.0    0    0.0  0.0  0.0     0.0    0  \n",
       "1375     0.0    0    0.0  0.0  0.0     0.0    0  \n",
       "\n",
       "[1376 rows x 4979 columns]"
      ]
     },
     "execution_count": 53,
     "metadata": {},
     "output_type": "execute_result"
    }
   ],
   "source": [
    "training_df = lyrics_df.loc[0:(training_set_size-1)]\n",
    "training_df = training_df.copy()\n",
    "training_df"
   ]
  },
  {
   "cell_type": "code",
   "execution_count": 54,
   "metadata": {},
   "outputs": [
    {
     "data": {
      "text/html": [
       "<div>\n",
       "<style scoped>\n",
       "    .dataframe tbody tr th:only-of-type {\n",
       "        vertical-align: middle;\n",
       "    }\n",
       "\n",
       "    .dataframe tbody tr th {\n",
       "        vertical-align: top;\n",
       "    }\n",
       "\n",
       "    .dataframe thead th {\n",
       "        text-align: right;\n",
       "    }\n",
       "</style>\n",
       "<table border=\"1\" class=\"dataframe\">\n",
       "  <thead>\n",
       "    <tr style=\"text-align: right;\">\n",
       "      <th></th>\n",
       "      <th>Title</th>\n",
       "      <th>Artist</th>\n",
       "      <th>Genre</th>\n",
       "      <th>i</th>\n",
       "      <th>the</th>\n",
       "      <th>you</th>\n",
       "      <th>to</th>\n",
       "      <th>and</th>\n",
       "      <th>a</th>\n",
       "      <th>me</th>\n",
       "      <th>...</th>\n",
       "      <th>writer</th>\n",
       "      <th>motivo</th>\n",
       "      <th>bake</th>\n",
       "      <th>insist</th>\n",
       "      <th>wel</th>\n",
       "      <th>santo</th>\n",
       "      <th>pe</th>\n",
       "      <th>gee</th>\n",
       "      <th>colleg</th>\n",
       "      <th>kad</th>\n",
       "    </tr>\n",
       "  </thead>\n",
       "  <tbody>\n",
       "    <tr>\n",
       "      <th>1376</th>\n",
       "      <td>If I Were You</td>\n",
       "      <td>Kasey Chambers</td>\n",
       "      <td>Country</td>\n",
       "      <td>0.175299</td>\n",
       "      <td>0.003984</td>\n",
       "      <td>0.043825</td>\n",
       "      <td>0.007968</td>\n",
       "      <td>0.011952</td>\n",
       "      <td>0.003984</td>\n",
       "      <td>0.035857</td>\n",
       "      <td>...</td>\n",
       "      <td>0.0</td>\n",
       "      <td>0.000000</td>\n",
       "      <td>0.0</td>\n",
       "      <td>0.0</td>\n",
       "      <td>0</td>\n",
       "      <td>0.0</td>\n",
       "      <td>0.0</td>\n",
       "      <td>0.0</td>\n",
       "      <td>0.0</td>\n",
       "      <td>0</td>\n",
       "    </tr>\n",
       "    <tr>\n",
       "      <th>1377</th>\n",
       "      <td>Hush</td>\n",
       "      <td>Billy Joe Royal</td>\n",
       "      <td>Country</td>\n",
       "      <td>0.095710</td>\n",
       "      <td>0.042904</td>\n",
       "      <td>0.003300</td>\n",
       "      <td>0.009901</td>\n",
       "      <td>0.019802</td>\n",
       "      <td>0.006601</td>\n",
       "      <td>0.003300</td>\n",
       "      <td>...</td>\n",
       "      <td>0.0</td>\n",
       "      <td>0.000000</td>\n",
       "      <td>0.0</td>\n",
       "      <td>0.0</td>\n",
       "      <td>0</td>\n",
       "      <td>0.0</td>\n",
       "      <td>0.0</td>\n",
       "      <td>0.0</td>\n",
       "      <td>0.0</td>\n",
       "      <td>0</td>\n",
       "    </tr>\n",
       "    <tr>\n",
       "      <th>1378</th>\n",
       "      <td>She Got Me Twisted</td>\n",
       "      <td>Seeed</td>\n",
       "      <td>Hip-hop</td>\n",
       "      <td>0.039877</td>\n",
       "      <td>0.018405</td>\n",
       "      <td>0.000000</td>\n",
       "      <td>0.030675</td>\n",
       "      <td>0.027607</td>\n",
       "      <td>0.021472</td>\n",
       "      <td>0.036810</td>\n",
       "      <td>...</td>\n",
       "      <td>0.0</td>\n",
       "      <td>0.000000</td>\n",
       "      <td>0.0</td>\n",
       "      <td>0.0</td>\n",
       "      <td>0</td>\n",
       "      <td>0.0</td>\n",
       "      <td>0.0</td>\n",
       "      <td>0.0</td>\n",
       "      <td>0.0</td>\n",
       "      <td>0</td>\n",
       "    </tr>\n",
       "    <tr>\n",
       "      <th>1379</th>\n",
       "      <td>Dear Life</td>\n",
       "      <td>Anthony Hamilton</td>\n",
       "      <td>Hip-hop</td>\n",
       "      <td>0.054795</td>\n",
       "      <td>0.018265</td>\n",
       "      <td>0.059361</td>\n",
       "      <td>0.004566</td>\n",
       "      <td>0.004566</td>\n",
       "      <td>0.022831</td>\n",
       "      <td>0.018265</td>\n",
       "      <td>...</td>\n",
       "      <td>0.0</td>\n",
       "      <td>0.000000</td>\n",
       "      <td>0.0</td>\n",
       "      <td>0.0</td>\n",
       "      <td>0</td>\n",
       "      <td>0.0</td>\n",
       "      <td>0.0</td>\n",
       "      <td>0.0</td>\n",
       "      <td>0.0</td>\n",
       "      <td>0</td>\n",
       "    </tr>\n",
       "    <tr>\n",
       "      <th>1380</th>\n",
       "      <td>Le missile est lancé</td>\n",
       "      <td>Keny Arkana</td>\n",
       "      <td>Hip-hop</td>\n",
       "      <td>0.000000</td>\n",
       "      <td>0.000000</td>\n",
       "      <td>0.000000</td>\n",
       "      <td>0.000000</td>\n",
       "      <td>0.000000</td>\n",
       "      <td>0.000000</td>\n",
       "      <td>0.000000</td>\n",
       "      <td>...</td>\n",
       "      <td>0.0</td>\n",
       "      <td>0.000000</td>\n",
       "      <td>0.0</td>\n",
       "      <td>0.0</td>\n",
       "      <td>0</td>\n",
       "      <td>0.0</td>\n",
       "      <td>0.0</td>\n",
       "      <td>0.0</td>\n",
       "      <td>0.0</td>\n",
       "      <td>0</td>\n",
       "    </tr>\n",
       "    <tr>\n",
       "      <th>...</th>\n",
       "      <td>...</td>\n",
       "      <td>...</td>\n",
       "      <td>...</td>\n",
       "      <td>...</td>\n",
       "      <td>...</td>\n",
       "      <td>...</td>\n",
       "      <td>...</td>\n",
       "      <td>...</td>\n",
       "      <td>...</td>\n",
       "      <td>...</td>\n",
       "      <td>...</td>\n",
       "      <td>...</td>\n",
       "      <td>...</td>\n",
       "      <td>...</td>\n",
       "      <td>...</td>\n",
       "      <td>...</td>\n",
       "      <td>...</td>\n",
       "      <td>...</td>\n",
       "      <td>...</td>\n",
       "      <td>...</td>\n",
       "      <td>...</td>\n",
       "    </tr>\n",
       "    <tr>\n",
       "      <th>1716</th>\n",
       "      <td>Desde el otro lado (con Nach)</td>\n",
       "      <td>Arma Blanca</td>\n",
       "      <td>Hip-hop</td>\n",
       "      <td>0.000000</td>\n",
       "      <td>0.000000</td>\n",
       "      <td>0.000000</td>\n",
       "      <td>0.000000</td>\n",
       "      <td>0.000000</td>\n",
       "      <td>0.021144</td>\n",
       "      <td>0.023632</td>\n",
       "      <td>...</td>\n",
       "      <td>0.0</td>\n",
       "      <td>0.002488</td>\n",
       "      <td>0.0</td>\n",
       "      <td>0.0</td>\n",
       "      <td>0</td>\n",
       "      <td>0.0</td>\n",
       "      <td>0.0</td>\n",
       "      <td>0.0</td>\n",
       "      <td>0.0</td>\n",
       "      <td>0</td>\n",
       "    </tr>\n",
       "    <tr>\n",
       "      <th>1717</th>\n",
       "      <td>Dixie Fried</td>\n",
       "      <td>Carl Perkins</td>\n",
       "      <td>Country</td>\n",
       "      <td>0.027027</td>\n",
       "      <td>0.042471</td>\n",
       "      <td>0.003861</td>\n",
       "      <td>0.015444</td>\n",
       "      <td>0.038610</td>\n",
       "      <td>0.019305</td>\n",
       "      <td>0.000000</td>\n",
       "      <td>...</td>\n",
       "      <td>0.0</td>\n",
       "      <td>0.000000</td>\n",
       "      <td>0.0</td>\n",
       "      <td>0.0</td>\n",
       "      <td>0</td>\n",
       "      <td>0.0</td>\n",
       "      <td>0.0</td>\n",
       "      <td>0.0</td>\n",
       "      <td>0.0</td>\n",
       "      <td>0</td>\n",
       "    </tr>\n",
       "    <tr>\n",
       "      <th>1718</th>\n",
       "      <td>Virginia Bluebell</td>\n",
       "      <td>Miranda Lambert</td>\n",
       "      <td>Country</td>\n",
       "      <td>0.000000</td>\n",
       "      <td>0.080214</td>\n",
       "      <td>0.069519</td>\n",
       "      <td>0.016043</td>\n",
       "      <td>0.016043</td>\n",
       "      <td>0.042781</td>\n",
       "      <td>0.000000</td>\n",
       "      <td>...</td>\n",
       "      <td>0.0</td>\n",
       "      <td>0.000000</td>\n",
       "      <td>0.0</td>\n",
       "      <td>0.0</td>\n",
       "      <td>0</td>\n",
       "      <td>0.0</td>\n",
       "      <td>0.0</td>\n",
       "      <td>0.0</td>\n",
       "      <td>0.0</td>\n",
       "      <td>0</td>\n",
       "    </tr>\n",
       "    <tr>\n",
       "      <th>1719</th>\n",
       "      <td>Lonelier Than This</td>\n",
       "      <td>Steve Earle</td>\n",
       "      <td>Country</td>\n",
       "      <td>0.067308</td>\n",
       "      <td>0.014423</td>\n",
       "      <td>0.004808</td>\n",
       "      <td>0.004808</td>\n",
       "      <td>0.028846</td>\n",
       "      <td>0.009615</td>\n",
       "      <td>0.000000</td>\n",
       "      <td>...</td>\n",
       "      <td>0.0</td>\n",
       "      <td>0.000000</td>\n",
       "      <td>0.0</td>\n",
       "      <td>0.0</td>\n",
       "      <td>0</td>\n",
       "      <td>0.0</td>\n",
       "      <td>0.0</td>\n",
       "      <td>0.0</td>\n",
       "      <td>0.0</td>\n",
       "      <td>0</td>\n",
       "    </tr>\n",
       "    <tr>\n",
       "      <th>1720</th>\n",
       "      <td>Good Hearted Woman</td>\n",
       "      <td>Waylon Jennings &amp; Willie Nelson</td>\n",
       "      <td>Country</td>\n",
       "      <td>0.000000</td>\n",
       "      <td>0.036735</td>\n",
       "      <td>0.000000</td>\n",
       "      <td>0.004082</td>\n",
       "      <td>0.028571</td>\n",
       "      <td>0.044898</td>\n",
       "      <td>0.004082</td>\n",
       "      <td>...</td>\n",
       "      <td>0.0</td>\n",
       "      <td>0.000000</td>\n",
       "      <td>0.0</td>\n",
       "      <td>0.0</td>\n",
       "      <td>0</td>\n",
       "      <td>0.0</td>\n",
       "      <td>0.0</td>\n",
       "      <td>0.0</td>\n",
       "      <td>0.0</td>\n",
       "      <td>0</td>\n",
       "    </tr>\n",
       "  </tbody>\n",
       "</table>\n",
       "<p>345 rows × 4979 columns</p>\n",
       "</div>"
      ],
      "text/plain": [
       "                              Title                           Artist    Genre  \\\n",
       "1376                  If I Were You                   Kasey Chambers  Country   \n",
       "1377                           Hush                  Billy Joe Royal  Country   \n",
       "1378             She Got Me Twisted                            Seeed  Hip-hop   \n",
       "1379                      Dear Life                 Anthony Hamilton  Hip-hop   \n",
       "1380           Le missile est lancé                      Keny Arkana  Hip-hop   \n",
       "...                             ...                              ...      ...   \n",
       "1716  Desde el otro lado (con Nach)                      Arma Blanca  Hip-hop   \n",
       "1717                    Dixie Fried                     Carl Perkins  Country   \n",
       "1718              Virginia Bluebell                  Miranda Lambert  Country   \n",
       "1719             Lonelier Than This                      Steve Earle  Country   \n",
       "1720             Good Hearted Woman  Waylon Jennings & Willie Nelson  Country   \n",
       "\n",
       "             i       the       you        to       and         a        me  \\\n",
       "1376  0.175299  0.003984  0.043825  0.007968  0.011952  0.003984  0.035857   \n",
       "1377  0.095710  0.042904  0.003300  0.009901  0.019802  0.006601  0.003300   \n",
       "1378  0.039877  0.018405  0.000000  0.030675  0.027607  0.021472  0.036810   \n",
       "1379  0.054795  0.018265  0.059361  0.004566  0.004566  0.022831  0.018265   \n",
       "1380  0.000000  0.000000  0.000000  0.000000  0.000000  0.000000  0.000000   \n",
       "...        ...       ...       ...       ...       ...       ...       ...   \n",
       "1716  0.000000  0.000000  0.000000  0.000000  0.000000  0.021144  0.023632   \n",
       "1717  0.027027  0.042471  0.003861  0.015444  0.038610  0.019305  0.000000   \n",
       "1718  0.000000  0.080214  0.069519  0.016043  0.016043  0.042781  0.000000   \n",
       "1719  0.067308  0.014423  0.004808  0.004808  0.028846  0.009615  0.000000   \n",
       "1720  0.000000  0.036735  0.000000  0.004082  0.028571  0.044898  0.004082   \n",
       "\n",
       "      ...  writer    motivo  bake  insist  wel  santo   pe  gee  colleg  kad  \n",
       "1376  ...     0.0  0.000000   0.0     0.0    0    0.0  0.0  0.0     0.0    0  \n",
       "1377  ...     0.0  0.000000   0.0     0.0    0    0.0  0.0  0.0     0.0    0  \n",
       "1378  ...     0.0  0.000000   0.0     0.0    0    0.0  0.0  0.0     0.0    0  \n",
       "1379  ...     0.0  0.000000   0.0     0.0    0    0.0  0.0  0.0     0.0    0  \n",
       "1380  ...     0.0  0.000000   0.0     0.0    0    0.0  0.0  0.0     0.0    0  \n",
       "...   ...     ...       ...   ...     ...  ...    ...  ...  ...     ...  ...  \n",
       "1716  ...     0.0  0.002488   0.0     0.0    0    0.0  0.0  0.0     0.0    0  \n",
       "1717  ...     0.0  0.000000   0.0     0.0    0    0.0  0.0  0.0     0.0    0  \n",
       "1718  ...     0.0  0.000000   0.0     0.0    0    0.0  0.0  0.0     0.0    0  \n",
       "1719  ...     0.0  0.000000   0.0     0.0    0    0.0  0.0  0.0     0.0    0  \n",
       "1720  ...     0.0  0.000000   0.0     0.0    0    0.0  0.0  0.0     0.0    0  \n",
       "\n",
       "[345 rows x 4979 columns]"
      ]
     },
     "execution_count": 54,
     "metadata": {},
     "output_type": "execute_result"
    }
   ],
   "source": [
    "testing_df = lyrics_df[training_set_size:]\n",
    "testing_df = testing_df.copy()\n",
    "testing_df"
   ]
  },
  {
   "cell_type": "markdown",
   "metadata": {},
   "source": [
    "**Question 1.11**: Draw a horizontal bar chart with two bars that show the proportions of Country songs in each of the training and testing datasets."
   ]
  },
  {
   "cell_type": "code",
   "execution_count": 56,
   "metadata": {},
   "outputs": [
    {
     "data": {
      "text/plain": [
       "<matplotlib.legend.Legend at 0x270026f1310>"
      ]
     },
     "execution_count": 56,
     "metadata": {},
     "output_type": "execute_result"
    },
    {
     "data": {
      "image/png": "[encoded data removed]",
      "text/plain": [
       "<Figure size 432x288 with 1 Axes>"
      ]
     },
     "metadata": {
      "needs_background": "light"
     },
     "output_type": "display_data"
    }
   ],
   "source": [
    "import matplotlib.pyplot as plt\n",
    "\n",
    "country_training_prop = training_df[training_df[\"Genre\"] == \"Country\"].shape[0] / training_df.shape[0]\n",
    "country_testing_prop = testing_df[testing_df[\"Genre\"] == \"Country\"].shape[0] / testing_df.shape[0]\n",
    "plt.barh(0, country_training_prop, label = \"Training\")\n",
    "plt.barh(1, country_testing_prop, label = \"Testing\")\n",
    "plt.legend(loc=\"lower right\")"
   ]
  },
  {
   "cell_type": "markdown",
   "metadata": {},
   "source": [
    "# 2. K-Nearest Neighbors (20 points)\n",
    "\n",
    "K-Nearest Neighbors (k-NN) is a classification algorithm.  Given some *features* of an unseen example, it decides whether that example belongs to one or the other of two categories based on its similarity to previously seen examples.  \n",
    "\n",
    "A feature we have about each song is *the proportion of times a particular word appears in the lyrics*, and the categories are two music genres: hip-hop and country.  The algorithm requires many previously seen examples for which both the features and categories are known: that's the `train_lyrics` table.\n",
    "\n",
    "We're going to visualize the algorithm, instead of just describing it. To get started, let's pick colors for the genres."
   ]
  },
  {
   "cell_type": "code",
   "execution_count": 57,
   "metadata": {},
   "outputs": [],
   "source": [
    "# Just run this cell to define genre_color.\n",
    "\n",
    "def genre_color(genre):\n",
    "    \"\"\"Assign a color to each genre.\"\"\"\n",
    "    if genre == 'Country':\n",
    "        return 'gold'\n",
    "    elif genre == 'Hip-hop':\n",
    "        return 'blue'\n",
    "    else:\n",
    "        return 'green'"
   ]
  },
  {
   "cell_type": "code",
   "execution_count": 58,
   "metadata": {},
   "outputs": [
    {
     "data": {
      "text/plain": [
       "'gold'"
      ]
     },
     "execution_count": 58,
     "metadata": {},
     "output_type": "execute_result"
    }
   ],
   "source": [
    "genre_color('Country')"
   ]
  },
  {
   "cell_type": "code",
   "execution_count": 59,
   "metadata": {},
   "outputs": [
    {
     "data": {
      "text/plain": [
       "'blue'"
      ]
     },
     "execution_count": 59,
     "metadata": {},
     "output_type": "execute_result"
    }
   ],
   "source": [
    "genre_color('Hip-hop')"
   ]
  },
  {
   "cell_type": "markdown",
   "metadata": {},
   "source": [
    "## Classifying a  song\n",
    "\n",
    "In k-NN, we classify a song by finding the `k` songs in the *training set* that are most similar according to the features we choose. We call those songs with similar features the \"neighbors\".  The k-NN algorithm assigns the song to the most common category among its `k` neighbors.\n",
    "\n",
    "Let's limit ourselves to just 2 features for now, so we can plot each song.  The features we will use are the proportions of the words \"like\" and \"love\" in the lyrics.  Taking the song \"In Your Eyes\" (in the test set), 0.0119 of its words are \"like\" and 0.0595 are \"love\". This song appears in the test set, so let's imagine that we don't yet know its genre.\n",
    "\n",
    "First, we need to make our notion of similarity more precise.  We will say that the *dissimilarity*, or *distance* between two songs is the straight-line distance between them when we plot their features in a scatter diagram. This distance is called the Euclidean (\"yoo-KLID-ee-un\") distance.  \n",
    "\n",
    "For example, in the song *Insane in the Brain* (in the training set), 0.0203 of all the words in the song are \"like\" and 0 are \"love\".  Its distance from *In Your Eyes* on this 2-word feature set is $\\sqrt{(0.0119 - 0.0203)^2 + (0.0595 - 0)^2} \\approx 0.06$.  (If we included more or different features, the distance could be different.)\n",
    "\n",
    "A third song, *Sangria Wine* (in the training set), is 0.0044 \"like\" and 0.0925 \"love\".\n",
    "\n"
   ]
  },
  {
   "cell_type": "markdown",
   "metadata": {},
   "source": [
    "**Question 2.1**: Define a function that creates a plot to display a test song and some training songs in a two-dimensional space defined by two features. Utilize the function to visualize the songs *In Your Eyes*, *Sangria Wine*, and *Insane in the Brain*."
   ]
  },
  {
   "cell_type": "markdown",
   "metadata": {},
   "source": [
    "hint: the function has four arguments and it does not return anything but it plots the songs in 2D space:\n",
    "\n",
    "* test_song: has string datatype, is the name of a song\n",
    "* training_songs: has list datatype, is a list of songs\n",
    "* x_feature: has string datatype, is the name of a feature.\n",
    "* y_feature: has string datatype, is the name of another feature."
   ]
  },
  {
   "cell_type": "code",
   "execution_count": 60,
   "metadata": {},
   "outputs": [],
   "source": [
    "import matplotlib.pyplot as plt\n",
    "\n",
    "def plot_with_two_features(test_song, training_songs, x_feature, y_feature):\n",
    "    \"\"\"Plot a test song and training songs using two features.\"\"\"\n",
    "    #plt.xlim(0, 1); plt.ylim(0, 1)\n",
    "    test = testing_df[testing_df[\"Title\"] == test_song]\n",
    "    #print(test)\n",
    "    #print(test[x_feature])\n",
    "    plt.plot(test[x_feature], test[y_feature], \".\", color=\"green\")\n",
    "    for song in training_songs:\n",
    "        row = training_df[training_df[\"Title\"] == song]\n",
    "        #print(dir(row[\"Genre\"]))\n",
    "        #print(str(row[\"Genre\"]))\n",
    "        #print(row.at[0, \"Genre\"])\n",
    "        #print(list(row[\"Genre\"]))\n",
    "        plt.plot(row[x_feature], row[y_feature], \".\", color=genre_color(list(row[\"Genre\"])[0]))\n"
   ]
  },
  {
   "cell_type": "code",
   "execution_count": 61,
   "metadata": {},
   "outputs": [
    {
     "data": {
      "image/png": "[encoded data removed]",
      "text/plain": [
       "<Figure size 432x288 with 1 Axes>"
      ]
     },
     "metadata": {
      "needs_background": "light"
     },
     "output_type": "display_data"
    }
   ],
   "source": [
    "# visualize the distances of the songs In Your Eyes, Sangria Wine, and Insane in the Brain.\n",
    "training = [\"Sangria Wine\", \"Insane In The Brain\"]\n",
    "test_song = \"In Your Eyes\"\n",
    "plot_with_two_features(test_song, training, \"like\", \"love\")"
   ]
  },
  {
   "cell_type": "markdown",
   "metadata": {},
   "source": [
    "**Question 2.2**: Utilize the `plot_with_two_features` function and plot the positions of the three songs *Sangria Wine*, *Lookin' for Love*, *Insane In The Brain* together with the song *In Your Eyes*. Which one is closer to *In Your Eyes* and what is its genre?"
   ]
  },
  {
   "cell_type": "code",
   "execution_count": 62,
   "metadata": {},
   "outputs": [
    {
     "data": {
      "image/png": "[encoded data removed]",
      "text/plain": [
       "<Figure size 432x288 with 1 Axes>"
      ]
     },
     "metadata": {
      "needs_background": "light"
     },
     "output_type": "display_data"
    }
   ],
   "source": [
    "training = [\"Sangria Wine\", \"Lookin' for Love\", \"Insane In The Brain\"]\n",
    "plot_with_two_features(test_song, training, \"like\", \"love\")"
   ]
  },
  {
   "cell_type": "markdown",
   "metadata": {},
   "source": [
    "**Question 2.3.** Complete the function `distance_two_features` that computes the Euclidean distance between any two songs, using two features. Utilize the function `distance_two_features`  to show that *Lookin' for Love* is closer to *In Your Eyes* than *Insane In The Brain*. "
   ]
  },
  {
   "cell_type": "code",
   "execution_count": 63,
   "metadata": {},
   "outputs": [
    {
     "data": {
      "text/plain": [
       "(0.017854025951587398, 0.060108782340654685)"
      ]
     },
     "execution_count": 63,
     "metadata": {},
     "output_type": "execute_result"
    }
   ],
   "source": [
    "import numpy as np\n",
    "\n",
    "def distance_two_features(title0, title1, x_feature, y_feature):\n",
    "    \"\"\"Compute the distance between two songs, represented as rows.\"\"\"\n",
    "    \n",
    "    song0 = lyrics_df[lyrics_df[\"Title\"] == title0]\n",
    "    song1 = lyrics_df[lyrics_df[\"Title\"] == title1]\n",
    "    \n",
    "    x0, x1 = song0.iloc[0][x_feature], song1.iloc[0][x_feature]\n",
    "    y0, y1 = song0.iloc[0][y_feature], song1.iloc[0][y_feature]\n",
    "    #print(type(x0))\n",
    "    \n",
    "    dx = x1 - x0\n",
    "    dy = y1 - y0\n",
    "    \n",
    "    return np.sqrt(dx**2 + dy**2)\n",
    "\n",
    "ans1 = distance_two_features(\"Lookin' for Love\", \"In Your Eyes\", \"like\", \"love\")\n",
    "ans2 = distance_two_features(\"Insane In The Brain\", \"In Your Eyes\", \"like\", \"love\")\n",
    "ans1, ans2"
   ]
  },
  {
   "cell_type": "markdown",
   "metadata": {},
   "source": [
    "Ans: Since 0.017 is less than 0.060, Lookin' for Love is closer to In Your Eyes than Insane In The Brain."
   ]
  },
  {
   "cell_type": "markdown",
   "metadata": {},
   "source": [
    "The nearest neighbor to a song is the example in the training set that has the smallest distance from that song."
   ]
  },
  {
   "cell_type": "markdown",
   "metadata": {},
   "source": [
    "**Question 2.4.**  What are the names and genres of the 7 closest songs to \"In Your Eyes\" in  `train_lyrics`, by Euclidean distance for the 2 features \"like\" and \"love\"?  To answer this question, make a dataframe named `close_songs` containing those 7 songs with columns \"Title\", \"Artist\", \"Genre\", \"like\", and \"love\" from the `lyrics` dataframe, as well as a column called `distance` that contains the distance from \"In Your Eyes\" **sorted in ascending order**."
   ]
  },
  {
   "cell_type": "code",
   "execution_count": 73,
   "metadata": {},
   "outputs": [
    {
     "data": {
      "text/plain": [
       "False"
      ]
     },
     "execution_count": 73,
     "metadata": {},
     "output_type": "execute_result"
    }
   ],
   "source": [
    "distance = []\n",
    "close_songs = training_df[training_df[\"Title\"] != \"In Your Eyes\"][[\"Title\", \"Artist\", \"Genre\", \"like\", \"love\"]]\n",
    "close_songs\n",
    "\n",
    "for index, row in training_df.iterrows():\n",
    "    distance.append(distance_two_features(\"In Your Eyes\", row[\"Title\"], \"like\", \"love\"))\n",
    "\n",
    "close_songs.insert(5, \"distance\", distance)\n",
    "\"In Your Eyes\" in training_df"
   ]
  },
  {
   "cell_type": "code",
   "execution_count": 80,
   "metadata": {},
   "outputs": [
    {
     "data": {
      "text/html": [
       "<div>\n",
       "<style scoped>\n",
       "    .dataframe tbody tr th:only-of-type {\n",
       "        vertical-align: middle;\n",
       "    }\n",
       "\n",
       "    .dataframe tbody tr th {\n",
       "        vertical-align: top;\n",
       "    }\n",
       "\n",
       "    .dataframe thead th {\n",
       "        text-align: right;\n",
       "    }\n",
       "</style>\n",
       "<table border=\"1\" class=\"dataframe\">\n",
       "  <thead>\n",
       "    <tr style=\"text-align: right;\">\n",
       "      <th></th>\n",
       "      <th>Title</th>\n",
       "      <th>Artist</th>\n",
       "      <th>Genre</th>\n",
       "      <th>like</th>\n",
       "      <th>love</th>\n",
       "      <th>distance</th>\n",
       "    </tr>\n",
       "  </thead>\n",
       "  <tbody>\n",
       "    <tr>\n",
       "      <th>828</th>\n",
       "      <td>If This Isn't Love</td>\n",
       "      <td>Jennifer Hudson</td>\n",
       "      <td>Hip-hop</td>\n",
       "      <td>0.008869</td>\n",
       "      <td>0.053215</td>\n",
       "      <td>0.007001</td>\n",
       "    </tr>\n",
       "    <tr>\n",
       "      <th>1108</th>\n",
       "      <td>Big Red Rocket Of Love</td>\n",
       "      <td>Reverend Horton Heat</td>\n",
       "      <td>Hip-hop</td>\n",
       "      <td>0.000000</td>\n",
       "      <td>0.057692</td>\n",
       "      <td>0.012045</td>\n",
       "    </tr>\n",
       "    <tr>\n",
       "      <th>1106</th>\n",
       "      <td>In the Middle of a Heartache</td>\n",
       "      <td>Wanda Jackson</td>\n",
       "      <td>Country</td>\n",
       "      <td>0.000000</td>\n",
       "      <td>0.063953</td>\n",
       "      <td>0.012702</td>\n",
       "    </tr>\n",
       "    <tr>\n",
       "      <th>160</th>\n",
       "      <td>The Hardest Part</td>\n",
       "      <td>Allison Moorer</td>\n",
       "      <td>Country</td>\n",
       "      <td>0.000000</td>\n",
       "      <td>0.064286</td>\n",
       "      <td>0.012822</td>\n",
       "    </tr>\n",
       "    <tr>\n",
       "      <th>1063</th>\n",
       "      <td>One Time</td>\n",
       "      <td>Justin Bieber</td>\n",
       "      <td>Hip-hop</td>\n",
       "      <td>0.000000</td>\n",
       "      <td>0.053030</td>\n",
       "      <td>0.013561</td>\n",
       "    </tr>\n",
       "    <tr>\n",
       "      <th>627</th>\n",
       "      <td>This Tornado Loves You</td>\n",
       "      <td>Neko Case</td>\n",
       "      <td>Country</td>\n",
       "      <td>0.000000</td>\n",
       "      <td>0.052846</td>\n",
       "      <td>0.013650</td>\n",
       "    </tr>\n",
       "    <tr>\n",
       "      <th>1201</th>\n",
       "      <td>Mama Knew Love</td>\n",
       "      <td>Anthony Hamilton</td>\n",
       "      <td>Hip-hop</td>\n",
       "      <td>0.020619</td>\n",
       "      <td>0.048969</td>\n",
       "      <td>0.013687</td>\n",
       "    </tr>\n",
       "  </tbody>\n",
       "</table>\n",
       "</div>"
      ],
      "text/plain": [
       "                             Title                Artist    Genre      like  \\\n",
       "828             If This Isn't Love       Jennifer Hudson  Hip-hop  0.008869   \n",
       "1108        Big Red Rocket Of Love  Reverend Horton Heat  Hip-hop  0.000000   \n",
       "1106  In the Middle of a Heartache         Wanda Jackson  Country  0.000000   \n",
       "160               The Hardest Part        Allison Moorer  Country  0.000000   \n",
       "1063                      One Time         Justin Bieber  Hip-hop  0.000000   \n",
       "627         This Tornado Loves You             Neko Case  Country  0.000000   \n",
       "1201                Mama Knew Love      Anthony Hamilton  Hip-hop  0.020619   \n",
       "\n",
       "          love  distance  \n",
       "828   0.053215  0.007001  \n",
       "1108  0.057692  0.012045  \n",
       "1106  0.063953  0.012702  \n",
       "160   0.064286  0.012822  \n",
       "1063  0.053030  0.013561  \n",
       "627   0.052846  0.013650  \n",
       "1201  0.048969  0.013687  "
      ]
     },
     "execution_count": 80,
     "metadata": {},
     "output_type": "execute_result"
    }
   ],
   "source": [
    "close_songs = close_songs.sort_values(\"distance\")[0:7]\n",
    "close_songs"
   ]
  },
  {
   "cell_type": "markdown",
   "metadata": {},
   "source": [
    "**Question 2.5 .** Find the most common value in the column `Genre` of the dataframe `close_songs`. In case of a tie, it can return any of the most common values."
   ]
  },
  {
   "cell_type": "code",
   "execution_count": 89,
   "metadata": {},
   "outputs": [
    {
     "data": {
      "text/plain": [
       "'Hip-hop'"
      ]
     },
     "execution_count": 89,
     "metadata": {},
     "output_type": "execute_result"
    }
   ],
   "source": [
    "no_of_hiphop = list(close_songs[\"Genre\"]).count(\"Hip-hop\")\n",
    "no_of_country = list(close_songs[\"Genre\"]).count(\"Country\")\n",
    "\n",
    "no_of_hiphop, no_of_country\n",
    "\n",
    "def common_value(given_dataframe):\n",
    "    genres = set(given_dataframe[\"Genre\"])\n",
    "    best_genre = \"\"\n",
    "    best_count = 0\n",
    "    for genre in genres:\n",
    "        cur_count = list(given_dataframe[\"Genre\"]).count(genre)\n",
    "        if cur_count > best_count:\n",
    "            best_genre = genre\n",
    "            best_count = cur_count\n",
    "    return best_genre\n",
    "\n",
    "common_value(close_songs)"
   ]
  },
  {
   "cell_type": "markdown",
   "metadata": {},
   "source": [
    "Congratulations -- you've classified your first song!"
   ]
  },
  {
   "cell_type": "markdown",
   "metadata": {},
   "source": [
    "# 3. Features (20 points)"
   ]
  },
  {
   "cell_type": "markdown",
   "metadata": {},
   "source": [
    "Now, we're going to extend our classifier to consider more than two features at a time.\n",
    "\n",
    "Euclidean distance still makes sense with more than two features. For `n` different features, we compute the difference between corresponding feature values for two songs, square each of the `n`  differences, sum up the resulting numbers, and take the square root of the sum."
   ]
  },
  {
   "cell_type": "markdown",
   "metadata": {},
   "source": [
    "#### Question 3.1\n",
    "Write a function to compute the Euclidean distance between two **arrays** of features of *arbitrary* (but equal) length.  Use it to compute the distance between the first song in the training set and the first song in the test set, *using all of the features*.  (Remember that the title, artist, and genre of the songs are not features.)\n",
    "\n",
    "**Hint:** The function has two arguments which are two arrays representing the two lists of features (list1_features is the list of features for data-point1 and list2_features is the list of features for data-point2: "
   ]
  },
  {
   "cell_type": "code",
   "execution_count": 162,
   "metadata": {},
   "outputs": [
    {
     "data": {
      "text/plain": [
       "0.20977496424035585"
      ]
     },
     "execution_count": 162,
     "metadata": {},
     "output_type": "execute_result"
    }
   ],
   "source": [
    "import numpy as np\n",
    "\n",
    "def distance(list1_features, list2_features):\n",
    "    \"\"\"The Euclidean distance between two arrays of feature values.\"\"\"\n",
    "    euclidean_array_distance = np.sqrt(np.sum((list1_features-list2_features)**2))\n",
    "    return euclidean_array_distance\n",
    "\n",
    "#distance()\n",
    "#training_df.loc[2, training_df.columns[3:]].to_numpy()\n",
    "#testing_df.loc[0, testing_df.columns[3:]]\n",
    "distance(training_df.loc[0, training_df.columns[3:]], testing_df.loc[len(training_df), testing_df.columns[3:]])"
   ]
  },
  {
   "cell_type": "markdown",
   "metadata": {},
   "source": [
    "## Creating your own feature set\n",
    "\n",
    "Unfortunately, using all of the features has some downsides.  One clear downside is *computational* -- computing Euclidean distances just takes a long time when we have lots of features.  You might have noticed that in the last question!\n",
    "\n",
    "So we're going to select just 20.  We'd like to choose features that are very *discriminative*. That is, features which lead us to correctly classify as much of the test set as possible.  This process of choosing features that will make a classifier work well is sometimes called *feature selection*, or more broadly *feature engineering*."
   ]
  },
  {
   "cell_type": "markdown",
   "metadata": {},
   "source": [
    "#### Question 3.2\n",
    "Look through the list of features (the labels of the `lyrics` table after the first three).  Choose 20 common words that you think might let you distinguish between country and hip-hop songs. Make sure to choose words that are frequent enough that every song contains at least one of them. Don't just choose the 20 most frequent, though... you can do much better.\n",
    "\n",
    "The first time you answer this question, spend some time looking through the features, but not more than 15 minutes."
   ]
  },
  {
   "cell_type": "code",
   "execution_count": 160,
   "metadata": {},
   "outputs": [
    {
     "data": {
      "text/plain": [
       "('good',\n",
       " 'mind',\n",
       " 'well',\n",
       " 'or',\n",
       " 'too',\n",
       " 'littl',\n",
       " 'were',\n",
       " 'did',\n",
       " 'face',\n",
       " 'alon',\n",
       " 'word',\n",
       " 'last',\n",
       " 'new',\n",
       " 'stop',\n",
       " 'off',\n",
       " 'thought',\n",
       " 'should',\n",
       " 'hard',\n",
       " 'pleas',\n",
       " 'wrong')"
      ]
     },
     "execution_count": 160,
     "metadata": {},
     "output_type": "execute_result"
    }
   ],
   "source": [
    "(\"good\", \"mind\", \"well\", \"or\", \"too\", \"littl\", \"were\", \"did\", \"face\", \"alon\", \"word\", \"last\", \"new\", \"stop\", \"off\",\n",
    "\"thought\", \"should\", \"hard\", \"pleas\", \"wrong\")\n"
   ]
  },
  {
   "cell_type": "markdown",
   "metadata": {},
   "source": [
    "#### Question 3.3\n",
    "In two sentences or less, describe how you selected your features. "
   ]
  },
  {
   "cell_type": "markdown",
   "metadata": {},
   "source": [
    "We analyzed the dataframe and we observed the occurences of certain words and their genres. If the word was fairly uncommon in both genres, we selected it. "
   ]
  },
  {
   "cell_type": "markdown",
   "metadata": {},
   "source": [
    "#### Question 3.4\n",
    "Use the `distance` function developed above to compute the distance from the first song in the test set to all the songs in the training set, **using your set of 20 features**.  Make a new dataframe called `genre_and_distances` with one row for each song in the training set and two columns:\n",
    "* The `\"Genre\"` of the training song\n",
    "* The `\"Distance\"` from the first song in the test set \n",
    "\n",
    "Ensure that `genre_and_distances` is **sorted in increasing order by distance to the first test song**."
   ]
  },
  {
   "cell_type": "code",
   "execution_count": 164,
   "metadata": {},
   "outputs": [],
   "source": [
    "features = [\"good\", \"mind\", \"well\", \"or\", \"too\", \"littl\", \"were\", \"did\", \"face\", \"alon\", \"word\", \"last\", \"new\", \n",
    "            \"stop\", \"off\", \"thought\", \"should\", \"hard\", \"pleas\", \"wrong\"]\n",
    "\n",
    "test_song = testing_df.loc[len(training_df), features]\n",
    "\n",
    "genre_and_distances = pd.DataFrame(training_df[\"Genre\"], columns=[\"Genre\"])\n",
    "_distances = []\n",
    "for i in range(len(training_df)):\n",
    "    _distances.append(distance(training_df.loc[i, features], test_song))\n",
    "\n",
    "genre_and_distances.insert(1, \"Distance\", _distances)"
   ]
  },
  {
   "cell_type": "code",
   "execution_count": 176,
   "metadata": {},
   "outputs": [
    {
     "data": {
      "text/html": [
       "<div>\n",
       "<style scoped>\n",
       "    .dataframe tbody tr th:only-of-type {\n",
       "        vertical-align: middle;\n",
       "    }\n",
       "\n",
       "    .dataframe tbody tr th {\n",
       "        vertical-align: top;\n",
       "    }\n",
       "\n",
       "    .dataframe thead th {\n",
       "        text-align: right;\n",
       "    }\n",
       "</style>\n",
       "<table border=\"1\" class=\"dataframe\">\n",
       "  <thead>\n",
       "    <tr style=\"text-align: right;\">\n",
       "      <th></th>\n",
       "      <th>Genre</th>\n",
       "      <th>Distance</th>\n",
       "    </tr>\n",
       "  </thead>\n",
       "  <tbody>\n",
       "    <tr>\n",
       "      <th>0</th>\n",
       "      <td>Hip-hop</td>\n",
       "      <td>0.036314</td>\n",
       "    </tr>\n",
       "    <tr>\n",
       "      <th>1</th>\n",
       "      <td>Hip-hop</td>\n",
       "      <td>0.034704</td>\n",
       "    </tr>\n",
       "    <tr>\n",
       "      <th>2</th>\n",
       "      <td>Hip-hop</td>\n",
       "      <td>0.036900</td>\n",
       "    </tr>\n",
       "    <tr>\n",
       "      <th>3</th>\n",
       "      <td>Country</td>\n",
       "      <td>0.038813</td>\n",
       "    </tr>\n",
       "    <tr>\n",
       "      <th>4</th>\n",
       "      <td>Country</td>\n",
       "      <td>0.060613</td>\n",
       "    </tr>\n",
       "    <tr>\n",
       "      <th>...</th>\n",
       "      <td>...</td>\n",
       "      <td>...</td>\n",
       "    </tr>\n",
       "    <tr>\n",
       "      <th>1371</th>\n",
       "      <td>Hip-hop</td>\n",
       "      <td>0.038245</td>\n",
       "    </tr>\n",
       "    <tr>\n",
       "      <th>1372</th>\n",
       "      <td>Hip-hop</td>\n",
       "      <td>0.038234</td>\n",
       "    </tr>\n",
       "    <tr>\n",
       "      <th>1373</th>\n",
       "      <td>Country</td>\n",
       "      <td>0.036677</td>\n",
       "    </tr>\n",
       "    <tr>\n",
       "      <th>1374</th>\n",
       "      <td>Country</td>\n",
       "      <td>0.037519</td>\n",
       "    </tr>\n",
       "    <tr>\n",
       "      <th>1375</th>\n",
       "      <td>Hip-hop</td>\n",
       "      <td>0.103527</td>\n",
       "    </tr>\n",
       "  </tbody>\n",
       "</table>\n",
       "<p>1376 rows × 2 columns</p>\n",
       "</div>"
      ],
      "text/plain": [
       "        Genre  Distance\n",
       "0     Hip-hop  0.036314\n",
       "1     Hip-hop  0.034704\n",
       "2     Hip-hop  0.036900\n",
       "3     Country  0.038813\n",
       "4     Country  0.060613\n",
       "...       ...       ...\n",
       "1371  Hip-hop  0.038245\n",
       "1372  Hip-hop  0.038234\n",
       "1373  Country  0.036677\n",
       "1374  Country  0.037519\n",
       "1375  Hip-hop  0.103527\n",
       "\n",
       "[1376 rows x 2 columns]"
      ]
     },
     "execution_count": 176,
     "metadata": {},
     "output_type": "execute_result"
    }
   ],
   "source": [
    "genre_and_distances"
   ]
  },
  {
   "cell_type": "markdown",
   "metadata": {},
   "source": [
    "#### Question 3.5\n",
    "Now compute the 5-nearest neighbors classification of the first song in the test set.  That is, decide on its genre by finding the most common genre among its 5 nearest neighbors, according to the distances you've calculated.  Then check whether your classifier chose the right genre.  (Depending on the features you chose, your classifier might not get this song right, and that's okay.)"
   ]
  },
  {
   "cell_type": "code",
   "execution_count": 166,
   "metadata": {},
   "outputs": [
    {
     "data": {
      "text/html": [
       "<div>\n",
       "<style scoped>\n",
       "    .dataframe tbody tr th:only-of-type {\n",
       "        vertical-align: middle;\n",
       "    }\n",
       "\n",
       "    .dataframe tbody tr th {\n",
       "        vertical-align: top;\n",
       "    }\n",
       "\n",
       "    .dataframe thead th {\n",
       "        text-align: right;\n",
       "    }\n",
       "</style>\n",
       "<table border=\"1\" class=\"dataframe\">\n",
       "  <thead>\n",
       "    <tr style=\"text-align: right;\">\n",
       "      <th></th>\n",
       "      <th>Genre</th>\n",
       "      <th>Distance</th>\n",
       "    </tr>\n",
       "  </thead>\n",
       "  <tbody>\n",
       "    <tr>\n",
       "      <th>367</th>\n",
       "      <td>Country</td>\n",
       "      <td>0.007781</td>\n",
       "    </tr>\n",
       "    <tr>\n",
       "      <th>1156</th>\n",
       "      <td>Country</td>\n",
       "      <td>0.009442</td>\n",
       "    </tr>\n",
       "    <tr>\n",
       "      <th>397</th>\n",
       "      <td>Hip-hop</td>\n",
       "      <td>0.014399</td>\n",
       "    </tr>\n",
       "    <tr>\n",
       "      <th>989</th>\n",
       "      <td>Hip-hop</td>\n",
       "      <td>0.017113</td>\n",
       "    </tr>\n",
       "    <tr>\n",
       "      <th>347</th>\n",
       "      <td>Country</td>\n",
       "      <td>0.017589</td>\n",
       "    </tr>\n",
       "  </tbody>\n",
       "</table>\n",
       "</div>"
      ],
      "text/plain": [
       "        Genre  Distance\n",
       "367   Country  0.007781\n",
       "1156  Country  0.009442\n",
       "397   Hip-hop  0.014399\n",
       "989   Hip-hop  0.017113\n",
       "347   Country  0.017589"
      ]
     },
     "execution_count": 166,
     "metadata": {},
     "output_type": "execute_result"
    }
   ],
   "source": [
    "closest_genre_and_distances = genre_and_distances.sort_values(\"Distance\")[0:5]\n",
    "closest_genre_and_distances"
   ]
  },
  {
   "cell_type": "code",
   "execution_count": 167,
   "metadata": {},
   "outputs": [
    {
     "data": {
      "text/plain": [
       "'Country'"
      ]
     },
     "execution_count": 167,
     "metadata": {},
     "output_type": "execute_result"
    }
   ],
   "source": [
    "common_value(closest_genre_and_distances)"
   ]
  },
  {
   "cell_type": "code",
   "execution_count": 169,
   "metadata": {},
   "outputs": [
    {
     "data": {
      "text/plain": [
       "Title    If I Were You\n",
       "Genre          Country\n",
       "Name: 1376, dtype: object"
      ]
     },
     "execution_count": 169,
     "metadata": {},
     "output_type": "execute_result"
    }
   ],
   "source": [
    "testing_df.loc[len(training_df), [\"Title\", \"Genre\"]]"
   ]
  },
  {
   "cell_type": "markdown",
   "metadata": {},
   "source": [
    "## A classifier function"
   ]
  },
  {
   "cell_type": "markdown",
   "metadata": {},
   "source": [
    "Now it's time to write a single function that encapsulates this whole process of classification.\n",
    "\n",
    "**Question 3.6.** Write a function called `classify`.  It should take the following arguments:\n",
    "* An array of features for a song to classify ,\n",
    "* A dataframe has similar structure of the original dataset,\n",
    "* `k`, the number of neighbors to use in classification.\n",
    "\n",
    "It should return the class your classifier picks for the given row of features (e.g., `'Country'` or `'Hip-hop'`). Test if the function works by classifying the first song in the test set using k=5."
   ]
  },
  {
   "cell_type": "code",
   "execution_count": 173,
   "metadata": {},
   "outputs": [],
   "source": [
    "def classify(test_features, train_dataframe, k, test_row):\n",
    "    \"\"\"Return the most common class among k nearest neigbors to test_row.\"\"\"\n",
    "    genre_and_distances = pd.DataFrame(training_df[\"Genre\"], columns=[\"Genre\"])\n",
    "    _distances = []\n",
    "    for i in range(len(training_df)):\n",
    "        _distances.append(distance(training_df.loc[i, features], test_row))\n",
    "\n",
    "    genre_and_distances.insert(1, \"Distance\", _distances)\n",
    "    closest = genre_and_distances.sort_values(\"Distance\")[0:k]\n",
    "    \n",
    "\n",
    "    return common_value(closest)"
   ]
  },
  {
   "cell_type": "code",
   "execution_count": 174,
   "metadata": {},
   "outputs": [
    {
     "data": {
      "text/plain": [
       "'Country'"
      ]
     },
     "execution_count": 174,
     "metadata": {},
     "output_type": "execute_result"
    }
   ],
   "source": [
    "classify(features, training_df, 5, test_song)"
   ]
  },
  {
   "cell_type": "markdown",
   "metadata": {},
   "source": [
    "**Question 3.7.** Assign `grandpa_genre` to the genre predicted by your classifier for the song  \"Grandpa Got Runned Over By A John Deere\", using 9 neigbors."
   ]
  },
  {
   "cell_type": "code",
   "execution_count": 180,
   "metadata": {},
   "outputs": [],
   "source": [
    "grandpa_row = testing_df[testing_df[\"Title\"] == \"Grandpa Got Runned Over By A John Deere\"]\n",
    "#print(grandpa_row.index[0])\n",
    "grandpa_genre = classify(features, training_df, 9, grandpa_row.loc[grandpa_row.index[0], features])"
   ]
  },
  {
   "cell_type": "code",
   "execution_count": 183,
   "metadata": {},
   "outputs": [
    {
     "data": {
      "text/plain": [
       "('Hip-hop', 'Country')"
      ]
     },
     "execution_count": 183,
     "metadata": {},
     "output_type": "execute_result"
    }
   ],
   "source": [
    "grandpa_genre, grandpa_row.loc[grandpa_row.index[0], \"Genre\"]"
   ]
  },
  {
   "cell_type": "markdown",
   "metadata": {},
   "source": [
    "## Evaluating your classifier"
   ]
  },
  {
   "cell_type": "markdown",
   "metadata": {},
   "source": [
    "Now that it's easy to use the classifier, let's see how accurate it is on the whole test set. But we will reduce the test set to 20 songs only to save computing power."
   ]
  },
  {
   "cell_type": "markdown",
   "metadata": {},
   "source": [
    "**Question 3.8.** Generate a new test set of 20 songs from your current test set"
   ]
  },
  {
   "cell_type": "code",
   "execution_count": 189,
   "metadata": {
    "scrolled": false
   },
   "outputs": [
    {
     "data": {
      "text/html": [
       "<div>\n",
       "<style scoped>\n",
       "    .dataframe tbody tr th:only-of-type {\n",
       "        vertical-align: middle;\n",
       "    }\n",
       "\n",
       "    .dataframe tbody tr th {\n",
       "        vertical-align: top;\n",
       "    }\n",
       "\n",
       "    .dataframe thead th {\n",
       "        text-align: right;\n",
       "    }\n",
       "</style>\n",
       "<table border=\"1\" class=\"dataframe\">\n",
       "  <thead>\n",
       "    <tr style=\"text-align: right;\">\n",
       "      <th></th>\n",
       "      <th>Title</th>\n",
       "      <th>Artist</th>\n",
       "      <th>Genre</th>\n",
       "      <th>i</th>\n",
       "      <th>the</th>\n",
       "      <th>you</th>\n",
       "      <th>to</th>\n",
       "      <th>and</th>\n",
       "      <th>a</th>\n",
       "      <th>me</th>\n",
       "      <th>...</th>\n",
       "      <th>writer</th>\n",
       "      <th>motivo</th>\n",
       "      <th>bake</th>\n",
       "      <th>insist</th>\n",
       "      <th>wel</th>\n",
       "      <th>santo</th>\n",
       "      <th>pe</th>\n",
       "      <th>gee</th>\n",
       "      <th>colleg</th>\n",
       "      <th>kad</th>\n",
       "    </tr>\n",
       "  </thead>\n",
       "  <tbody>\n",
       "    <tr>\n",
       "      <th>0</th>\n",
       "      <td>Movin' On</td>\n",
       "      <td>Mýa</td>\n",
       "      <td>Hip-hop</td>\n",
       "      <td>0.0654008</td>\n",
       "      <td>0.00421941</td>\n",
       "      <td>0.0421941</td>\n",
       "      <td>0.0232068</td>\n",
       "      <td>0.0316456</td>\n",
       "      <td>0.0147679</td>\n",
       "      <td>0.00632911</td>\n",
       "      <td>...</td>\n",
       "      <td>0</td>\n",
       "      <td>0</td>\n",
       "      <td>0</td>\n",
       "      <td>0</td>\n",
       "      <td>0</td>\n",
       "      <td>0</td>\n",
       "      <td>0</td>\n",
       "      <td>0</td>\n",
       "      <td>0</td>\n",
       "      <td>0</td>\n",
       "    </tr>\n",
       "    <tr>\n",
       "      <th>1</th>\n",
       "      <td>Alphabets</td>\n",
       "      <td>GZA/Genius</td>\n",
       "      <td>Hip-hop</td>\n",
       "      <td>0.0126904</td>\n",
       "      <td>0.0837563</td>\n",
       "      <td>0.0152284</td>\n",
       "      <td>0.0126904</td>\n",
       "      <td>0.0253807</td>\n",
       "      <td>0.0304569</td>\n",
       "      <td>0</td>\n",
       "      <td>...</td>\n",
       "      <td>0</td>\n",
       "      <td>0</td>\n",
       "      <td>0</td>\n",
       "      <td>0</td>\n",
       "      <td>0</td>\n",
       "      <td>0</td>\n",
       "      <td>0</td>\n",
       "      <td>0</td>\n",
       "      <td>0</td>\n",
       "      <td>0</td>\n",
       "    </tr>\n",
       "    <tr>\n",
       "      <th>2</th>\n",
       "      <td>Hankenstein</td>\n",
       "      <td>Cledus T. Judd</td>\n",
       "      <td>Country</td>\n",
       "      <td>0</td>\n",
       "      <td>0.0609756</td>\n",
       "      <td>0.00406504</td>\n",
       "      <td>0.0243902</td>\n",
       "      <td>0.0325203</td>\n",
       "      <td>0.0691057</td>\n",
       "      <td>0</td>\n",
       "      <td>...</td>\n",
       "      <td>0</td>\n",
       "      <td>0</td>\n",
       "      <td>0</td>\n",
       "      <td>0</td>\n",
       "      <td>0</td>\n",
       "      <td>0</td>\n",
       "      <td>0</td>\n",
       "      <td>0</td>\n",
       "      <td>0</td>\n",
       "      <td>0</td>\n",
       "    </tr>\n",
       "    <tr>\n",
       "      <th>3</th>\n",
       "      <td>When Love Finds You</td>\n",
       "      <td>Vince Gill</td>\n",
       "      <td>Country</td>\n",
       "      <td>0</td>\n",
       "      <td>0.00564972</td>\n",
       "      <td>0.129943</td>\n",
       "      <td>0.0112994</td>\n",
       "      <td>0.0112994</td>\n",
       "      <td>0</td>\n",
       "      <td>0</td>\n",
       "      <td>...</td>\n",
       "      <td>0</td>\n",
       "      <td>0</td>\n",
       "      <td>0</td>\n",
       "      <td>0</td>\n",
       "      <td>0</td>\n",
       "      <td>0</td>\n",
       "      <td>0</td>\n",
       "      <td>0</td>\n",
       "      <td>0</td>\n",
       "      <td>0</td>\n",
       "    </tr>\n",
       "    <tr>\n",
       "      <th>4</th>\n",
       "      <td>Feelin' Good</td>\n",
       "      <td>The Pussycat Dolls</td>\n",
       "      <td>Hip-hop</td>\n",
       "      <td>0.0887097</td>\n",
       "      <td>0.0201613</td>\n",
       "      <td>0.0645161</td>\n",
       "      <td>0</td>\n",
       "      <td>0.0483871</td>\n",
       "      <td>0.0604839</td>\n",
       "      <td>0.0241936</td>\n",
       "      <td>...</td>\n",
       "      <td>0</td>\n",
       "      <td>0</td>\n",
       "      <td>0</td>\n",
       "      <td>0</td>\n",
       "      <td>0</td>\n",
       "      <td>0</td>\n",
       "      <td>0</td>\n",
       "      <td>0</td>\n",
       "      <td>0</td>\n",
       "      <td>0</td>\n",
       "    </tr>\n",
       "    <tr>\n",
       "      <th>5</th>\n",
       "      <td>Don't Wait Too Long</td>\n",
       "      <td>Madeleine Peyroux</td>\n",
       "      <td>Country</td>\n",
       "      <td>0.0103627</td>\n",
       "      <td>0</td>\n",
       "      <td>0.0673575</td>\n",
       "      <td>0.0259067</td>\n",
       "      <td>0.0103627</td>\n",
       "      <td>0.0310881</td>\n",
       "      <td>0</td>\n",
       "      <td>...</td>\n",
       "      <td>0</td>\n",
       "      <td>0</td>\n",
       "      <td>0</td>\n",
       "      <td>0</td>\n",
       "      <td>0</td>\n",
       "      <td>0</td>\n",
       "      <td>0</td>\n",
       "      <td>0</td>\n",
       "      <td>0</td>\n",
       "      <td>0</td>\n",
       "    </tr>\n",
       "    <tr>\n",
       "      <th>6</th>\n",
       "      <td>Grandma Got Run Over By A Reindeer</td>\n",
       "      <td>Cledus T. Judd</td>\n",
       "      <td>Country</td>\n",
       "      <td>0.0131234</td>\n",
       "      <td>0.0314961</td>\n",
       "      <td>0.0209974</td>\n",
       "      <td>0.00787402</td>\n",
       "      <td>0.0577428</td>\n",
       "      <td>0.0288714</td>\n",
       "      <td>0.015748</td>\n",
       "      <td>...</td>\n",
       "      <td>0</td>\n",
       "      <td>0</td>\n",
       "      <td>0</td>\n",
       "      <td>0</td>\n",
       "      <td>0</td>\n",
       "      <td>0</td>\n",
       "      <td>0</td>\n",
       "      <td>0</td>\n",
       "      <td>0</td>\n",
       "      <td>0</td>\n",
       "    </tr>\n",
       "    <tr>\n",
       "      <th>7</th>\n",
       "      <td>Again &amp; Again</td>\n",
       "      <td>Mýa</td>\n",
       "      <td>Hip-hop</td>\n",
       "      <td>0.0174564</td>\n",
       "      <td>0.0074813</td>\n",
       "      <td>0.0822943</td>\n",
       "      <td>0.042394</td>\n",
       "      <td>0.102244</td>\n",
       "      <td>0</td>\n",
       "      <td>0.0648379</td>\n",
       "      <td>...</td>\n",
       "      <td>0</td>\n",
       "      <td>0</td>\n",
       "      <td>0</td>\n",
       "      <td>0</td>\n",
       "      <td>0</td>\n",
       "      <td>0</td>\n",
       "      <td>0</td>\n",
       "      <td>0</td>\n",
       "      <td>0</td>\n",
       "      <td>0</td>\n",
       "    </tr>\n",
       "    <tr>\n",
       "      <th>8</th>\n",
       "      <td>Copied Keys</td>\n",
       "      <td>Kathleen Edwards</td>\n",
       "      <td>Country</td>\n",
       "      <td>0.0340909</td>\n",
       "      <td>0.0284091</td>\n",
       "      <td>0.0397727</td>\n",
       "      <td>0.0113636</td>\n",
       "      <td>0.0738636</td>\n",
       "      <td>0.0170455</td>\n",
       "      <td>0.00568182</td>\n",
       "      <td>...</td>\n",
       "      <td>0</td>\n",
       "      <td>0</td>\n",
       "      <td>0</td>\n",
       "      <td>0</td>\n",
       "      <td>0</td>\n",
       "      <td>0</td>\n",
       "      <td>0</td>\n",
       "      <td>0</td>\n",
       "      <td>0</td>\n",
       "      <td>0</td>\n",
       "    </tr>\n",
       "    <tr>\n",
       "      <th>9</th>\n",
       "      <td>Ice King</td>\n",
       "      <td>Res</td>\n",
       "      <td>Hip-hop</td>\n",
       "      <td>0.0940767</td>\n",
       "      <td>0.0557491</td>\n",
       "      <td>0.0383275</td>\n",
       "      <td>0.00696864</td>\n",
       "      <td>0.010453</td>\n",
       "      <td>0.00348432</td>\n",
       "      <td>0.0209059</td>\n",
       "      <td>...</td>\n",
       "      <td>0</td>\n",
       "      <td>0</td>\n",
       "      <td>0</td>\n",
       "      <td>0</td>\n",
       "      <td>0</td>\n",
       "      <td>0</td>\n",
       "      <td>0</td>\n",
       "      <td>0</td>\n",
       "      <td>0</td>\n",
       "      <td>0</td>\n",
       "    </tr>\n",
       "    <tr>\n",
       "      <th>10</th>\n",
       "      <td>You Always Win</td>\n",
       "      <td>Raul Malo</td>\n",
       "      <td>Country</td>\n",
       "      <td>0.0406504</td>\n",
       "      <td>0.0243902</td>\n",
       "      <td>0.121951</td>\n",
       "      <td>0.0325203</td>\n",
       "      <td>0.0243902</td>\n",
       "      <td>0</td>\n",
       "      <td>0.0162602</td>\n",
       "      <td>...</td>\n",
       "      <td>0</td>\n",
       "      <td>0</td>\n",
       "      <td>0</td>\n",
       "      <td>0</td>\n",
       "      <td>0</td>\n",
       "      <td>0</td>\n",
       "      <td>0</td>\n",
       "      <td>0</td>\n",
       "      <td>0</td>\n",
       "      <td>0</td>\n",
       "    </tr>\n",
       "    <tr>\n",
       "      <th>11</th>\n",
       "      <td>Tumbling Down</td>\n",
       "      <td>Allison Moorer</td>\n",
       "      <td>Country</td>\n",
       "      <td>0.00813008</td>\n",
       "      <td>0.0243902</td>\n",
       "      <td>0.0162602</td>\n",
       "      <td>0.0325203</td>\n",
       "      <td>0.00813008</td>\n",
       "      <td>0.0162602</td>\n",
       "      <td>0.00813008</td>\n",
       "      <td>...</td>\n",
       "      <td>0</td>\n",
       "      <td>0</td>\n",
       "      <td>0</td>\n",
       "      <td>0</td>\n",
       "      <td>0</td>\n",
       "      <td>0</td>\n",
       "      <td>0</td>\n",
       "      <td>0</td>\n",
       "      <td>0</td>\n",
       "      <td>0</td>\n",
       "    </tr>\n",
       "    <tr>\n",
       "      <th>12</th>\n",
       "      <td>South Tacoma Way</td>\n",
       "      <td>Neko Case</td>\n",
       "      <td>Country</td>\n",
       "      <td>0.0704225</td>\n",
       "      <td>0.0610329</td>\n",
       "      <td>0.0140845</td>\n",
       "      <td>0.0234742</td>\n",
       "      <td>0.056338</td>\n",
       "      <td>0.0140845</td>\n",
       "      <td>0.0140845</td>\n",
       "      <td>...</td>\n",
       "      <td>0</td>\n",
       "      <td>0</td>\n",
       "      <td>0</td>\n",
       "      <td>0</td>\n",
       "      <td>0</td>\n",
       "      <td>0</td>\n",
       "      <td>0</td>\n",
       "      <td>0</td>\n",
       "      <td>0</td>\n",
       "      <td>0</td>\n",
       "    </tr>\n",
       "    <tr>\n",
       "      <th>13</th>\n",
       "      <td>Falling Out Of Love</td>\n",
       "      <td>Mary Gauthier</td>\n",
       "      <td>Country</td>\n",
       "      <td>0.0394089</td>\n",
       "      <td>0.0394089</td>\n",
       "      <td>0.00492611</td>\n",
       "      <td>0.00492611</td>\n",
       "      <td>0.0541872</td>\n",
       "      <td>0.0295567</td>\n",
       "      <td>0.0591133</td>\n",
       "      <td>...</td>\n",
       "      <td>0</td>\n",
       "      <td>0</td>\n",
       "      <td>0</td>\n",
       "      <td>0</td>\n",
       "      <td>0</td>\n",
       "      <td>0</td>\n",
       "      <td>0</td>\n",
       "      <td>0</td>\n",
       "      <td>0</td>\n",
       "      <td>0</td>\n",
       "    </tr>\n",
       "    <tr>\n",
       "      <th>14</th>\n",
       "      <td>I Like</td>\n",
       "      <td>Guy</td>\n",
       "      <td>Hip-hop</td>\n",
       "      <td>0.113514</td>\n",
       "      <td>0.0378378</td>\n",
       "      <td>0.0837838</td>\n",
       "      <td>0.0189189</td>\n",
       "      <td>0.00810811</td>\n",
       "      <td>0.0027027</td>\n",
       "      <td>0.0459459</td>\n",
       "      <td>...</td>\n",
       "      <td>0</td>\n",
       "      <td>0</td>\n",
       "      <td>0</td>\n",
       "      <td>0</td>\n",
       "      <td>0</td>\n",
       "      <td>0</td>\n",
       "      <td>0</td>\n",
       "      <td>0</td>\n",
       "      <td>0</td>\n",
       "      <td>0</td>\n",
       "    </tr>\n",
       "    <tr>\n",
       "      <th>15</th>\n",
       "      <td>Le fardeau</td>\n",
       "      <td>Keny Arkana</td>\n",
       "      <td>Hip-hop</td>\n",
       "      <td>0</td>\n",
       "      <td>0</td>\n",
       "      <td>0</td>\n",
       "      <td>0</td>\n",
       "      <td>0</td>\n",
       "      <td>0.00414938</td>\n",
       "      <td>0.0165975</td>\n",
       "      <td>...</td>\n",
       "      <td>0</td>\n",
       "      <td>0</td>\n",
       "      <td>0</td>\n",
       "      <td>0</td>\n",
       "      <td>0</td>\n",
       "      <td>0</td>\n",
       "      <td>0</td>\n",
       "      <td>0</td>\n",
       "      <td>0</td>\n",
       "      <td>0</td>\n",
       "    </tr>\n",
       "    <tr>\n",
       "      <th>16</th>\n",
       "      <td>Elevator</td>\n",
       "      <td>The Pussycat Dolls</td>\n",
       "      <td>Hip-hop</td>\n",
       "      <td>0.0544323</td>\n",
       "      <td>0.0248834</td>\n",
       "      <td>0.0544323</td>\n",
       "      <td>0.0233281</td>\n",
       "      <td>0.0279938</td>\n",
       "      <td>0.00466563</td>\n",
       "      <td>0.0155521</td>\n",
       "      <td>...</td>\n",
       "      <td>0</td>\n",
       "      <td>0</td>\n",
       "      <td>0</td>\n",
       "      <td>0</td>\n",
       "      <td>0</td>\n",
       "      <td>0</td>\n",
       "      <td>0</td>\n",
       "      <td>0</td>\n",
       "      <td>0</td>\n",
       "      <td>0</td>\n",
       "    </tr>\n",
       "    <tr>\n",
       "      <th>17</th>\n",
       "      <td>Commodore 64 Vs PC</td>\n",
       "      <td>Articolo 31</td>\n",
       "      <td>Hip-hop</td>\n",
       "      <td>0.0169491</td>\n",
       "      <td>0</td>\n",
       "      <td>0</td>\n",
       "      <td>0</td>\n",
       "      <td>0</td>\n",
       "      <td>0.0254237</td>\n",
       "      <td>0</td>\n",
       "      <td>...</td>\n",
       "      <td>0.00847458</td>\n",
       "      <td>0</td>\n",
       "      <td>0</td>\n",
       "      <td>0</td>\n",
       "      <td>0</td>\n",
       "      <td>0</td>\n",
       "      <td>0</td>\n",
       "      <td>0</td>\n",
       "      <td>0</td>\n",
       "      <td>0</td>\n",
       "    </tr>\n",
       "    <tr>\n",
       "      <th>18</th>\n",
       "      <td>Trying To Survive</td>\n",
       "      <td>Montgomery Gentry</td>\n",
       "      <td>Country</td>\n",
       "      <td>0.101449</td>\n",
       "      <td>0.0386473</td>\n",
       "      <td>0</td>\n",
       "      <td>0.0386473</td>\n",
       "      <td>0.00483092</td>\n",
       "      <td>0.00966184</td>\n",
       "      <td>0.0241546</td>\n",
       "      <td>...</td>\n",
       "      <td>0</td>\n",
       "      <td>0</td>\n",
       "      <td>0</td>\n",
       "      <td>0</td>\n",
       "      <td>0</td>\n",
       "      <td>0</td>\n",
       "      <td>0</td>\n",
       "      <td>0</td>\n",
       "      <td>0</td>\n",
       "      <td>0</td>\n",
       "    </tr>\n",
       "    <tr>\n",
       "      <th>19</th>\n",
       "      <td>Sin Escaleras Era Mi Escuela</td>\n",
       "      <td>La Excepción</td>\n",
       "      <td>Hip-hop</td>\n",
       "      <td>0</td>\n",
       "      <td>0</td>\n",
       "      <td>0</td>\n",
       "      <td>0.00276243</td>\n",
       "      <td>0</td>\n",
       "      <td>0.0331492</td>\n",
       "      <td>0.0248619</td>\n",
       "      <td>...</td>\n",
       "      <td>0</td>\n",
       "      <td>0</td>\n",
       "      <td>0</td>\n",
       "      <td>0</td>\n",
       "      <td>0</td>\n",
       "      <td>0</td>\n",
       "      <td>0</td>\n",
       "      <td>0</td>\n",
       "      <td>0</td>\n",
       "      <td>0</td>\n",
       "    </tr>\n",
       "  </tbody>\n",
       "</table>\n",
       "<p>20 rows × 4979 columns</p>\n",
       "</div>"
      ],
      "text/plain": [
       "                                 Title              Artist    Genre  \\\n",
       "0                            Movin' On                 Mýa  Hip-hop   \n",
       "1                            Alphabets          GZA/Genius  Hip-hop   \n",
       "2                          Hankenstein      Cledus T. Judd  Country   \n",
       "3                  When Love Finds You          Vince Gill  Country   \n",
       "4                         Feelin' Good  The Pussycat Dolls  Hip-hop   \n",
       "5                  Don't Wait Too Long   Madeleine Peyroux  Country   \n",
       "6   Grandma Got Run Over By A Reindeer      Cledus T. Judd  Country   \n",
       "7                        Again & Again                 Mýa  Hip-hop   \n",
       "8                          Copied Keys    Kathleen Edwards  Country   \n",
       "9                             Ice King                 Res  Hip-hop   \n",
       "10                      You Always Win           Raul Malo  Country   \n",
       "11                       Tumbling Down      Allison Moorer  Country   \n",
       "12                    South Tacoma Way           Neko Case  Country   \n",
       "13                 Falling Out Of Love       Mary Gauthier  Country   \n",
       "14                              I Like                 Guy  Hip-hop   \n",
       "15                          Le fardeau         Keny Arkana  Hip-hop   \n",
       "16                            Elevator  The Pussycat Dolls  Hip-hop   \n",
       "17                  Commodore 64 Vs PC         Articolo 31  Hip-hop   \n",
       "18                   Trying To Survive   Montgomery Gentry  Country   \n",
       "19        Sin Escaleras Era Mi Escuela        La Excepción  Hip-hop   \n",
       "\n",
       "             i         the         you          to         and           a  \\\n",
       "0    0.0654008  0.00421941   0.0421941   0.0232068   0.0316456   0.0147679   \n",
       "1    0.0126904   0.0837563   0.0152284   0.0126904   0.0253807   0.0304569   \n",
       "2            0   0.0609756  0.00406504   0.0243902   0.0325203   0.0691057   \n",
       "3            0  0.00564972    0.129943   0.0112994   0.0112994           0   \n",
       "4    0.0887097   0.0201613   0.0645161           0   0.0483871   0.0604839   \n",
       "5    0.0103627           0   0.0673575   0.0259067   0.0103627   0.0310881   \n",
       "6    0.0131234   0.0314961   0.0209974  0.00787402   0.0577428   0.0288714   \n",
       "7    0.0174564   0.0074813   0.0822943    0.042394    0.102244           0   \n",
       "8    0.0340909   0.0284091   0.0397727   0.0113636   0.0738636   0.0170455   \n",
       "9    0.0940767   0.0557491   0.0383275  0.00696864    0.010453  0.00348432   \n",
       "10   0.0406504   0.0243902    0.121951   0.0325203   0.0243902           0   \n",
       "11  0.00813008   0.0243902   0.0162602   0.0325203  0.00813008   0.0162602   \n",
       "12   0.0704225   0.0610329   0.0140845   0.0234742    0.056338   0.0140845   \n",
       "13   0.0394089   0.0394089  0.00492611  0.00492611   0.0541872   0.0295567   \n",
       "14    0.113514   0.0378378   0.0837838   0.0189189  0.00810811   0.0027027   \n",
       "15           0           0           0           0           0  0.00414938   \n",
       "16   0.0544323   0.0248834   0.0544323   0.0233281   0.0279938  0.00466563   \n",
       "17   0.0169491           0           0           0           0   0.0254237   \n",
       "18    0.101449   0.0386473           0   0.0386473  0.00483092  0.00966184   \n",
       "19           0           0           0  0.00276243           0   0.0331492   \n",
       "\n",
       "            me  ...      writer motivo bake insist wel santo pe gee colleg kad  \n",
       "0   0.00632911  ...           0      0    0      0   0     0  0   0      0   0  \n",
       "1            0  ...           0      0    0      0   0     0  0   0      0   0  \n",
       "2            0  ...           0      0    0      0   0     0  0   0      0   0  \n",
       "3            0  ...           0      0    0      0   0     0  0   0      0   0  \n",
       "4    0.0241936  ...           0      0    0      0   0     0  0   0      0   0  \n",
       "5            0  ...           0      0    0      0   0     0  0   0      0   0  \n",
       "6     0.015748  ...           0      0    0      0   0     0  0   0      0   0  \n",
       "7    0.0648379  ...           0      0    0      0   0     0  0   0      0   0  \n",
       "8   0.00568182  ...           0      0    0      0   0     0  0   0      0   0  \n",
       "9    0.0209059  ...           0      0    0      0   0     0  0   0      0   0  \n",
       "10   0.0162602  ...           0      0    0      0   0     0  0   0      0   0  \n",
       "11  0.00813008  ...           0      0    0      0   0     0  0   0      0   0  \n",
       "12   0.0140845  ...           0      0    0      0   0     0  0   0      0   0  \n",
       "13   0.0591133  ...           0      0    0      0   0     0  0   0      0   0  \n",
       "14   0.0459459  ...           0      0    0      0   0     0  0   0      0   0  \n",
       "15   0.0165975  ...           0      0    0      0   0     0  0   0      0   0  \n",
       "16   0.0155521  ...           0      0    0      0   0     0  0   0      0   0  \n",
       "17           0  ...  0.00847458      0    0      0   0     0  0   0      0   0  \n",
       "18   0.0241546  ...           0      0    0      0   0     0  0   0      0   0  \n",
       "19   0.0248619  ...           0      0    0      0   0     0  0   0      0   0  \n",
       "\n",
       "[20 rows x 4979 columns]"
      ]
     },
     "execution_count": 189,
     "metadata": {},
     "output_type": "execute_result"
    }
   ],
   "source": [
    "new_test_set = pd.DataFrame(testing_df.sample(20).to_numpy(), columns=testing_df.columns)\n",
    "new_test_set\n",
    "#numpy removes indexes but also removes column names. colums  = testing_df.columns brings those back"
   ]
  },
  {
   "cell_type": "markdown",
   "metadata": {},
   "source": [
    "**Question 3.9.** Classify every song in the newly generated test set, then compute the proportion of correct classifications. (It may take some minutes to complete the classification of these 20 songs)"
   ]
  },
  {
   "cell_type": "code",
   "execution_count": 190,
   "metadata": {},
   "outputs": [],
   "source": [
    "song_classifications = []\n",
    "for p in range(20):\n",
    "    song_classifications.append(classify(features, training_df, 9, new_test_set.loc[p, features]))\n",
    "    \n",
    "new_test_set.insert(3, \"Prediction\", song_classifications)"
   ]
  },
  {
   "cell_type": "code",
   "execution_count": 191,
   "metadata": {},
   "outputs": [
    {
     "data": {
      "text/html": [
       "<div>\n",
       "<style scoped>\n",
       "    .dataframe tbody tr th:only-of-type {\n",
       "        vertical-align: middle;\n",
       "    }\n",
       "\n",
       "    .dataframe tbody tr th {\n",
       "        vertical-align: top;\n",
       "    }\n",
       "\n",
       "    .dataframe thead th {\n",
       "        text-align: right;\n",
       "    }\n",
       "</style>\n",
       "<table border=\"1\" class=\"dataframe\">\n",
       "  <thead>\n",
       "    <tr style=\"text-align: right;\">\n",
       "      <th></th>\n",
       "      <th>Title</th>\n",
       "      <th>Artist</th>\n",
       "      <th>Genre</th>\n",
       "      <th>Prediction</th>\n",
       "    </tr>\n",
       "  </thead>\n",
       "  <tbody>\n",
       "    <tr>\n",
       "      <th>0</th>\n",
       "      <td>Movin' On</td>\n",
       "      <td>Mýa</td>\n",
       "      <td>Hip-hop</td>\n",
       "      <td>Hip-hop</td>\n",
       "    </tr>\n",
       "    <tr>\n",
       "      <th>1</th>\n",
       "      <td>Alphabets</td>\n",
       "      <td>GZA/Genius</td>\n",
       "      <td>Hip-hop</td>\n",
       "      <td>Country</td>\n",
       "    </tr>\n",
       "    <tr>\n",
       "      <th>2</th>\n",
       "      <td>Hankenstein</td>\n",
       "      <td>Cledus T. Judd</td>\n",
       "      <td>Country</td>\n",
       "      <td>Country</td>\n",
       "    </tr>\n",
       "    <tr>\n",
       "      <th>3</th>\n",
       "      <td>When Love Finds You</td>\n",
       "      <td>Vince Gill</td>\n",
       "      <td>Country</td>\n",
       "      <td>Hip-hop</td>\n",
       "    </tr>\n",
       "    <tr>\n",
       "      <th>4</th>\n",
       "      <td>Feelin' Good</td>\n",
       "      <td>The Pussycat Dolls</td>\n",
       "      <td>Hip-hop</td>\n",
       "      <td>Hip-hop</td>\n",
       "    </tr>\n",
       "    <tr>\n",
       "      <th>5</th>\n",
       "      <td>Don't Wait Too Long</td>\n",
       "      <td>Madeleine Peyroux</td>\n",
       "      <td>Country</td>\n",
       "      <td>Country</td>\n",
       "    </tr>\n",
       "    <tr>\n",
       "      <th>6</th>\n",
       "      <td>Grandma Got Run Over By A Reindeer</td>\n",
       "      <td>Cledus T. Judd</td>\n",
       "      <td>Country</td>\n",
       "      <td>Country</td>\n",
       "    </tr>\n",
       "    <tr>\n",
       "      <th>7</th>\n",
       "      <td>Again &amp; Again</td>\n",
       "      <td>Mýa</td>\n",
       "      <td>Hip-hop</td>\n",
       "      <td>Country</td>\n",
       "    </tr>\n",
       "    <tr>\n",
       "      <th>8</th>\n",
       "      <td>Copied Keys</td>\n",
       "      <td>Kathleen Edwards</td>\n",
       "      <td>Country</td>\n",
       "      <td>Country</td>\n",
       "    </tr>\n",
       "    <tr>\n",
       "      <th>9</th>\n",
       "      <td>Ice King</td>\n",
       "      <td>Res</td>\n",
       "      <td>Hip-hop</td>\n",
       "      <td>Hip-hop</td>\n",
       "    </tr>\n",
       "    <tr>\n",
       "      <th>10</th>\n",
       "      <td>You Always Win</td>\n",
       "      <td>Raul Malo</td>\n",
       "      <td>Country</td>\n",
       "      <td>Hip-hop</td>\n",
       "    </tr>\n",
       "    <tr>\n",
       "      <th>11</th>\n",
       "      <td>Tumbling Down</td>\n",
       "      <td>Allison Moorer</td>\n",
       "      <td>Country</td>\n",
       "      <td>Hip-hop</td>\n",
       "    </tr>\n",
       "    <tr>\n",
       "      <th>12</th>\n",
       "      <td>South Tacoma Way</td>\n",
       "      <td>Neko Case</td>\n",
       "      <td>Country</td>\n",
       "      <td>Hip-hop</td>\n",
       "    </tr>\n",
       "    <tr>\n",
       "      <th>13</th>\n",
       "      <td>Falling Out Of Love</td>\n",
       "      <td>Mary Gauthier</td>\n",
       "      <td>Country</td>\n",
       "      <td>Hip-hop</td>\n",
       "    </tr>\n",
       "    <tr>\n",
       "      <th>14</th>\n",
       "      <td>I Like</td>\n",
       "      <td>Guy</td>\n",
       "      <td>Hip-hop</td>\n",
       "      <td>Hip-hop</td>\n",
       "    </tr>\n",
       "    <tr>\n",
       "      <th>15</th>\n",
       "      <td>Le fardeau</td>\n",
       "      <td>Keny Arkana</td>\n",
       "      <td>Hip-hop</td>\n",
       "      <td>Hip-hop</td>\n",
       "    </tr>\n",
       "    <tr>\n",
       "      <th>16</th>\n",
       "      <td>Elevator</td>\n",
       "      <td>The Pussycat Dolls</td>\n",
       "      <td>Hip-hop</td>\n",
       "      <td>Hip-hop</td>\n",
       "    </tr>\n",
       "    <tr>\n",
       "      <th>17</th>\n",
       "      <td>Commodore 64 Vs PC</td>\n",
       "      <td>Articolo 31</td>\n",
       "      <td>Hip-hop</td>\n",
       "      <td>Hip-hop</td>\n",
       "    </tr>\n",
       "    <tr>\n",
       "      <th>18</th>\n",
       "      <td>Trying To Survive</td>\n",
       "      <td>Montgomery Gentry</td>\n",
       "      <td>Country</td>\n",
       "      <td>Country</td>\n",
       "    </tr>\n",
       "    <tr>\n",
       "      <th>19</th>\n",
       "      <td>Sin Escaleras Era Mi Escuela</td>\n",
       "      <td>La Excepción</td>\n",
       "      <td>Hip-hop</td>\n",
       "      <td>Hip-hop</td>\n",
       "    </tr>\n",
       "  </tbody>\n",
       "</table>\n",
       "</div>"
      ],
      "text/plain": [
       "                                 Title              Artist    Genre Prediction\n",
       "0                            Movin' On                 Mýa  Hip-hop    Hip-hop\n",
       "1                            Alphabets          GZA/Genius  Hip-hop    Country\n",
       "2                          Hankenstein      Cledus T. Judd  Country    Country\n",
       "3                  When Love Finds You          Vince Gill  Country    Hip-hop\n",
       "4                         Feelin' Good  The Pussycat Dolls  Hip-hop    Hip-hop\n",
       "5                  Don't Wait Too Long   Madeleine Peyroux  Country    Country\n",
       "6   Grandma Got Run Over By A Reindeer      Cledus T. Judd  Country    Country\n",
       "7                        Again & Again                 Mýa  Hip-hop    Country\n",
       "8                          Copied Keys    Kathleen Edwards  Country    Country\n",
       "9                             Ice King                 Res  Hip-hop    Hip-hop\n",
       "10                      You Always Win           Raul Malo  Country    Hip-hop\n",
       "11                       Tumbling Down      Allison Moorer  Country    Hip-hop\n",
       "12                    South Tacoma Way           Neko Case  Country    Hip-hop\n",
       "13                 Falling Out Of Love       Mary Gauthier  Country    Hip-hop\n",
       "14                              I Like                 Guy  Hip-hop    Hip-hop\n",
       "15                          Le fardeau         Keny Arkana  Hip-hop    Hip-hop\n",
       "16                            Elevator  The Pussycat Dolls  Hip-hop    Hip-hop\n",
       "17                  Commodore 64 Vs PC         Articolo 31  Hip-hop    Hip-hop\n",
       "18                   Trying To Survive   Montgomery Gentry  Country    Country\n",
       "19        Sin Escaleras Era Mi Escuela        La Excepción  Hip-hop    Hip-hop"
      ]
     },
     "execution_count": 191,
     "metadata": {},
     "output_type": "execute_result"
    }
   ],
   "source": [
    "new_test_set[new_test_set.columns[0:4]]"
   ]
  },
  {
   "cell_type": "code",
   "execution_count": 193,
   "metadata": {},
   "outputs": [
    {
     "data": {
      "text/plain": [
       "0.65"
      ]
     },
     "execution_count": 193,
     "metadata": {},
     "output_type": "execute_result"
    }
   ],
   "source": [
    "matches = list(new_test_set[\"Genre\"] == new_test_set[\"Prediction\"])\n",
    "proportion = matches.count(True)/len(matches)\n",
    "proportion"
   ]
  },
  {
   "cell_type": "markdown",
   "metadata": {},
   "source": [
    "At this point, you've gone through one cycle of classifier design.  Let's summarize the steps:\n",
    "1. From available data, select test and training sets.\n",
    "2. Choose an algorithm you're going to use for classification.\n",
    "3. Identify some features.\n",
    "4. Define a classifier function using your features and the training set.\n",
    "5. Evaluate its performance (the proportion of correct classifications) on the test set.\n"
   ]
  },
  {
   "cell_type": "markdown",
   "metadata": {},
   "source": [
    "# 4. Feature design (15 points)\n",
    "\n",
    "One way to interpret the accuracy of a classifier is to compare it to another classifier."
   ]
  },
  {
   "cell_type": "markdown",
   "metadata": {},
   "source": [
    "**Question 4.1.** Below we've provided 10 features selected by the staff `[\"come\", \"do\", \"have\", \"heart\", \"make\", \"never\", \"now\", \"wanna\", \"with\", \"yo\"]`.  Build a 5-nearest-neighbor classifier using these features and compute its accuracy on the test set. "
   ]
  },
  {
   "cell_type": "code",
   "execution_count": null,
   "metadata": {},
   "outputs": [],
   "source": []
  },
  {
   "cell_type": "markdown",
   "metadata": {},
   "source": [
    "**Question 4.2.** Are the features you chose better or worse than the staff features at classifying the test set? Why do you think this is so?"
   ]
  },
  {
   "cell_type": "code",
   "execution_count": null,
   "metadata": {},
   "outputs": [],
   "source": []
  },
  {
   "cell_type": "markdown",
   "metadata": {},
   "source": [
    "**Question 4.3.** Is there anything random about a classifier's accuracy measured in this way?  Is it possible that the difference in classifier performance is due to chance?  If so, describe (in 2-3 sentences) how you would investigate that."
   ]
  },
  {
   "cell_type": "markdown",
   "metadata": {},
   "source": [
    " random - which songs are in training set, which are in testing set\n",
    " \n",
    "not random - since features are selected by us"
   ]
  },
  {
   "cell_type": "markdown",
   "metadata": {},
   "source": [
    "# 5. Computational thinking (15 points)\n",
    "\n",
    "**<span style=\"color:red\">The following questions are answered via a video of 8->10  minutes. Everybody must speak. You will provide the youtube link or zoom shared link of that video in the answer box. Please make the video available until May 15, 2021 at least. Points will be deducted if we cannot access the video before this date.</span>**"
   ]
  },
  {
   "cell_type": "markdown",
   "metadata": {},
   "source": [
    "**Question 5.1**: Specifically refer to some lines of code, or the thought processes that you made in all the above solutions to elaborate computational concepts which are used in solving the project (Recall computational thinking pillars to answer the question)."
   ]
  },
  {
   "cell_type": "code",
   "execution_count": null,
   "metadata": {},
   "outputs": [],
   "source": []
  },
  {
   "cell_type": "markdown",
   "metadata": {},
   "source": [
    "**Question 5.2**: How did you work as a team to complete the project?"
   ]
  },
  {
   "cell_type": "code",
   "execution_count": null,
   "metadata": {},
   "outputs": [],
   "source": []
  },
  {
   "cell_type": "markdown",
   "metadata": {},
   "source": [
    "**Question 5.3** (Optional - bonus 5 points, not counted if your project grade is 100/100): Show three pictures as the representations (or better yet, a data visualization) of life before, during, and/or after taking Computational Thinking with Data Science course."
   ]
  },
  {
   "cell_type": "code",
   "execution_count": null,
   "metadata": {},
   "outputs": [],
   "source": []
  }
 ],
 "metadata": {
  "kernelspec": {
   "display_name": "Python 3",
   "language": "python",
   "name": "python3"
  },
  "language_info": {
   "codemirror_mode": {
    "name": "ipython",
    "version": 3
   },
   "file_extension": ".py",
   "mimetype": "text/x-python",
   "name": "python",
   "nbconvert_exporter": "python",
   "pygments_lexer": "ipython3",
   "version": "3.8.5"
  }
 },
 "nbformat": 4,
 "nbformat_minor": 4
}
